{
 "cells": [
  {
   "cell_type": "markdown",
   "id": "56c26611",
   "metadata": {},
   "source": [
    "## For Boo3, model its orbit 1000x with uncertainties (Gaussian dist), compare with Carlin paper"
   ]
  },
  {
   "cell_type": "code",
   "execution_count": 16,
   "id": "c02b936e",
   "metadata": {},
   "outputs": [
    {
     "name": "stdout",
     "output_type": "stream",
     "text": [
      "/home/student04/.local/lib/python3.10/site-packages/galpy/util/bovy_conversion.py:6: FutureWarning: galpy.util.bovy_conversion is being deprecated in favor of galpy.util.conversion; all functions in there are the same; please switch to the new import, because the old import will be removed in v1.9\n",
      "  warnings.warn('galpy.util.bovy_conversion is being deprecated in favor of galpy.util.conversion; all functions in there are the same; please switch to the new import, because the old import will be removed in v1.9',FutureWarning)\n",
      "\n",
      "/home/student04/.local/lib/python3.10/site-packages/galpy/util/bovy_coords.py:6: FutureWarning: galpy.util.bovy_coords is being deprecated in favor of galpy.util.coords; all functions in there are the same; please switch to the new import, because the old import will be removed in v1.9\n",
      "  warnings.warn('galpy.util.bovy_coords is being deprecated in favor of galpy.util.coords; all functions in there are the same; please switch to the new import, because the old import will be removed in v1.9',FutureWarning)\n",
      "\n"
     ]
    }
   ],
   "source": [
    "# Importing our libraries and packages required for the orbit\n",
    "from galpy.orbit import Orbit\n",
    "from galpy import potential\n",
    "import numpy as np\n",
    "import matplotlib.pyplot as plt\n",
    "from galpy.util import conversion\n",
    "from stream_package.stream_package import graphics\n",
    "\n",
    "# Importing potentials.\n",
    "from galpy.potential import MWPotential2014,ChandrasekharDynamicalFrictionForce,HernquistPotential,MovingObjectPotential"
   ]
  },
  {
   "cell_type": "code",
   "execution_count": 9,
   "id": "9888c3c9",
   "metadata": {},
   "outputs": [],
   "source": [
    "## 6D Data and uncertainties from Kevin's data\n",
    "sixD = [209.3, 26.8, 46.5, -1.16, -0.88, 189.11]\n",
    "sigma = [0, 0, 2, 0.02, 0.01, 1.56]\n",
    "\n",
    "pot = MWPotential2014\n",
    "ro = 8.\n",
    "vo = 220.\n",
    "mo = conversion.mass_in_msol(ro=ro, vo=vo)\n",
    "solarmotion = [-11.1, 12.24, 7.25]\n",
    "\n",
    "# How many data points I want, taking into account the uncertainty\n",
    "N_unc = 1000\n",
    "sixD_unc = np.random.normal(loc=sixD, scale=sigma, size = (N_unc,6))"
   ]
  },
  {
   "cell_type": "markdown",
   "id": "982f8117",
   "metadata": {},
   "source": [
    "## Without LMC:"
   ]
  },
  {
   "cell_type": "code",
   "execution_count": 10,
   "id": "08fef5c7",
   "metadata": {},
   "outputs": [],
   "source": [
    "# Initializing the orbits\n",
    "o = Orbit(sixD, radec=True, solarmotion=solarmotion)\n",
    "o_unc = Orbit(sixD_unc, radec=True, solarmotion=solarmotion)"
   ]
  },
  {
   "cell_type": "code",
   "execution_count": 11,
   "id": "2981e8bf",
   "metadata": {},
   "outputs": [],
   "source": [
    "# Initializing the timescale, so that I can integrate backwards 5Gyrs\n",
    "t = 5\n",
    "to = conversion.time_in_Gyr(ro=ro,vo=vo)\n",
    "n = 1001\n",
    "ts= np.linspace(0.,-t/to,n)"
   ]
  },
  {
   "cell_type": "code",
   "execution_count": 12,
   "id": "9708fa03",
   "metadata": {},
   "outputs": [
    {
     "name": "stderr",
     "output_type": "stream",
     "text": [
      "                                                                                \r"
     ]
    }
   ],
   "source": [
    "# Integrating the orbits\n",
    "o.integrate(ts, pot=pot)\n",
    "o_unc.integrate(ts, pot=pot)"
   ]
  },
  {
   "cell_type": "code",
   "execution_count": 13,
   "id": "0c3b3a59",
   "metadata": {},
   "outputs": [
    {
     "data": {
      "image/png": "[encoded data removed]",
      "text/plain": [
       "<Figure size 432x288 with 1 Axes>"
      ]
     },
     "metadata": {
      "needs_background": "light"
     },
     "output_type": "display_data"
    }
   ],
   "source": [
    "# Plotting.\n",
    "o_unc.plot(d1='y', d2='z', alpha=0.1, c='#17becf')\n",
    "o.plot(d1='y', d2='z', overplot=True, c='b')\n",
    "\n",
    "ax = plt.gca()\n",
    "ax.set_xlim(-275, 275)\n",
    "ax.set_ylim(-275, 275)\n",
    "ax.set_aspect('equal', adjustable='box')"
   ]
  },
  {
   "cell_type": "code",
   "execution_count": 14,
   "id": "c2b2a295",
   "metadata": {},
   "outputs": [
    {
     "name": "stdout",
     "output_type": "stream",
     "text": [
      "Pericentre error: 2.2203477004219643 mean: 9.899585555144888\n",
      "Apocentre error: 23.27046097094713 mean: 166.6223850611464\n"
     ]
    }
   ],
   "source": [
    "p = o_unc.rperi()\n",
    "a = o_unc.rap()\n",
    "\n",
    "p_std = np.std(p)\n",
    "a_std = np.std(a)\n",
    "p_mean = np.mean(p)\n",
    "a_mean = np.mean(a)\n",
    "\n",
    "print('Pericentre error:', p_std, 'mean:', p_mean)\n",
    "print('Apocentre error:', a_std, 'mean:', a_mean)"
   ]
  },
  {
   "cell_type": "code",
   "execution_count": null,
   "id": "db4e150c",
   "metadata": {},
   "outputs": [],
   "source": []
  },
  {
   "cell_type": "markdown",
   "id": "f58a8ff0",
   "metadata": {},
   "source": [
    "## With LMC:"
   ]
  },
  {
   "cell_type": "code",
   "execution_count": 20,
   "id": "d1702b90",
   "metadata": {},
   "outputs": [],
   "source": [
    "olmc = Orbit(sixD, radec=True, solarmotion=solarmotion)\n",
    "o_unclmc = Orbit(sixD_unc, radec=True, solarmotion=solarmotion)"
   ]
  },
  {
   "cell_type": "code",
   "execution_count": 18,
   "id": "7566491e",
   "metadata": {},
   "outputs": [
    {
     "name": "stdout",
     "output_type": "stream",
     "text": [
      "galpyWarning: Cannot use symplectic integration because some of the included forces are dissipative (using non-symplectic integrator dopr54_c instead)\n",
      "galpyWarning: You specified integration times as a Quantity, but are evaluating at times not specified as a Quantity; assuming that time given is in natural (internal) units (multiply time by unit to get output at physical time)\n"
     ]
    }
   ],
   "source": [
    "MWpotLMC = graphics.lmc_potential_wacc(t, pot=pot)"
   ]
  },
  {
   "cell_type": "code",
   "execution_count": 21,
   "id": "46556e10",
   "metadata": {},
   "outputs": [
    {
     "name": "stderr",
     "output_type": "stream",
     "text": [
      "                                                                                \r"
     ]
    }
   ],
   "source": [
    "olmc.integrate(ts, pot=MWpotLMC)\n",
    "o_unclmc.integrate(ts, pot=MWpotLMC)"
   ]
  },
  {
   "cell_type": "code",
   "execution_count": 22,
   "id": "8635e4c9",
   "metadata": {},
   "outputs": [
    {
     "data": {
      "image/png": "[encoded data removed]",
      "text/plain": [
       "<Figure size 432x288 with 1 Axes>"
      ]
     },
     "metadata": {
      "needs_background": "light"
     },
     "output_type": "display_data"
    }
   ],
   "source": [
    "o_unclmc.plot(d1='y', d2='z', alpha=0.1, c='#17becf')\n",
    "olmc.plot(d1='y', d2='z', overplot=True, c='b')\n",
    "\n",
    "ax = plt.gca()\n",
    "ax.set_xlim(-275, 275)\n",
    "ax.set_ylim(-275, 275)\n",
    "ax.set_aspect('equal', adjustable='box')"
   ]
  },
  {
   "cell_type": "code",
   "execution_count": 23,
   "id": "800155aa",
   "metadata": {},
   "outputs": [
    {
     "name": "stdout",
     "output_type": "stream",
     "text": [
      "Pericentre error: 2.298983827119056 mean: 10.51180801643036\n",
      "Apocentre error: 19.36111679272901 mean: 142.61898370892462\n"
     ]
    }
   ],
   "source": [
    "p = o_unclmc.rperi()\n",
    "a = o_unclmc.rap()\n",
    "\n",
    "p_std = np.std(p)\n",
    "a_std = np.std(a)\n",
    "p_mean = np.mean(p)\n",
    "a_mean = np.mean(a)\n",
    "\n",
    "print('Pericentre error:', p_std, 'mean:', p_mean)\n",
    "print('Apocentre error:', a_std, 'mean:', a_mean)"
   ]
  },
  {
   "cell_type": "code",
   "execution_count": null,
   "id": "f9f74188",
   "metadata": {},
   "outputs": [],
   "source": []
  },
  {
   "cell_type": "markdown",
   "id": "b79e6544",
   "metadata": {},
   "source": [
    "## McMillan17"
   ]
  },
  {
   "cell_type": "code",
   "execution_count": 24,
   "id": "9856d2fb",
   "metadata": {},
   "outputs": [],
   "source": [
    "from galpy.potential.mwpotentials import McMillan17"
   ]
  },
  {
   "cell_type": "code",
   "execution_count": 25,
   "id": "757bb6f0",
   "metadata": {},
   "outputs": [],
   "source": [
    "ro17 = conversion.get_physical(McMillan17)['ro']\n",
    "vo17 = conversion.get_physical(McMillan17)['vo']\n",
    "\n",
    "o17 = Orbit(sixD, radec=True, solarmotion=solarmotion, ro = ro17, vo=vo17)\n",
    "o_unc17 = Orbit(sixD_unc, radec=True, solarmotion=solarmotion, ro=ro17, vo=vo17)"
   ]
  },
  {
   "cell_type": "code",
   "execution_count": 26,
   "id": "3a4dec59",
   "metadata": {},
   "outputs": [
    {
     "name": "stderr",
     "output_type": "stream",
     "text": [
      "                                                                                \r"
     ]
    }
   ],
   "source": [
    "o17.integrate(ts, McMillan17)\n",
    "o_unc17.integrate(ts, McMillan17)"
   ]
  },
  {
   "cell_type": "code",
   "execution_count": 30,
   "id": "df1e5008",
   "metadata": {},
   "outputs": [
    {
     "data": {
      "image/png": "[encoded data removed]",
      "text/plain": [
       "<Figure size 432x288 with 1 Axes>"
      ]
     },
     "metadata": {
      "needs_background": "light"
     },
     "output_type": "display_data"
    }
   ],
   "source": [
    "o_unc17.plot(d1='y', d2='z', alpha=0.1, c='#17becf')\n",
    "o17.plot(d1='y', d2='z', overplot=True, c='b')\n",
    "\n",
    "ax = plt.gca()\n",
    "ax.set_xlim(-175, 175)\n",
    "ax.set_ylim(-175, 175)\n",
    "ax.set_aspect('equal', adjustable='box')"
   ]
  },
  {
   "cell_type": "code",
   "execution_count": 28,
   "id": "ced8ae51",
   "metadata": {},
   "outputs": [
    {
     "name": "stdout",
     "output_type": "stream",
     "text": [
      "Pericentre error: 1.7945521135016396 mean: 7.343702739725638\n",
      "Apocentre error: 7.537224140065147 mean: 99.02183876937744\n"
     ]
    }
   ],
   "source": [
    "p = o_unc17.rperi()\n",
    "a = o_unc17.rap()\n",
    "\n",
    "p_std = np.std(p)\n",
    "a_std = np.std(a)\n",
    "p_mean = np.mean(p)\n",
    "a_mean = np.mean(a)\n",
    "\n",
    "print('Pericentre error:', p_std, 'mean:', p_mean)\n",
    "print('Apocentre error:', a_std, 'mean:', a_mean)"
   ]
  },
  {
   "cell_type": "markdown",
   "id": "d06da1e7",
   "metadata": {},
   "source": [
    "## McMillan17 including LMC"
   ]
  },
  {
   "cell_type": "code",
   "execution_count": 31,
   "id": "e6d32f60",
   "metadata": {},
   "outputs": [],
   "source": [
    "o17lmc = Orbit(sixD, radec=True, solarmotion=solarmotion, ro = ro17, vo=vo17)\n",
    "o_unc17lmc = Orbit(sixD_unc, radec=True, solarmotion=solarmotion, ro=ro17, vo=vo17)"
   ]
  },
  {
   "cell_type": "code",
   "execution_count": 36,
   "id": "ba8ba98f",
   "metadata": {},
   "outputs": [
    {
     "name": "stdout",
     "output_type": "stream",
     "text": [
      "galpyWarning: Cannot use symplectic integration because some of the included forces are dissipative (using non-symplectic integrator dopr54_c instead)\n",
      "galpyWarning: You specified integration times as a Quantity, but are evaluating at times not specified as a Quantity; assuming that time given is in natural (internal) units (multiply time by unit to get output at physical time)\n"
     ]
    }
   ],
   "source": [
    "from astropy import units\n",
    "\n",
    "pot17 = McMillan17\n",
    "\n",
    "o_lmc= Orbit.from_name('LMC', ro=ro17, vo=vo17)\n",
    "cdf= ChandrasekharDynamicalFrictionForce(GMs=10.**11.*units.Msun,rhm=5.*units.kpc,\n",
    "                                             dens=pot17[1], ro=ro17, vo=vo17)\n",
    "ts= np.linspace(0.,-10,1001)*units.Gyr\n",
    "o_lmc.integrate(ts,pot17+cdf)\n",
    "\n",
    "lmcpot= HernquistPotential(amp=2*10.**11.*units.Msun,\n",
    "                           a=5.*units.kpc/(1.+np.sqrt(2.))) #rhm = (1+sqrt(2)) a\n",
    "moving_lmcpot= MovingObjectPotential(o_lmc,pot=lmcpot)\n",
    "\n",
    "from galpy.potential import (evaluateRforces, evaluatephitorques,\n",
    "                             evaluatezforces)\n",
    "loc_origin= 1e-4 # Small offset in R to avoid numerical issues\n",
    "ax= lambda t: evaluateRforces(moving_lmcpot,loc_origin,0.,phi=0.,t=t,\n",
    "                                  use_physical=False)\n",
    "ay= lambda t: evaluatephitorques(moving_lmcpot,loc_origin,0.,phi=0.,t=t,\n",
    "                                    use_physical=False)/loc_origin\n",
    "az= lambda t: evaluatezforces(moving_lmcpot,loc_origin,0.,phi=0.,t=t,\n",
    "                                  use_physical=False)\n",
    "\n",
    "t_intunits= o_lmc.time(use_physical=False)[::-1] # need to reverse the order for interp\n",
    "ax4int= np.array([ax(t) for t in t_intunits])\n",
    "ax_int= lambda t: np.interp(t,t_intunits,ax4int)\n",
    "ay4int= np.array([ay(t) for t in t_intunits])\n",
    "ay_int= lambda t: np.interp(t,t_intunits,ay4int)\n",
    "az4int= np.array([az(t) for t in t_intunits])\n",
    "az_int= lambda t: np.interp(t,t_intunits,az4int)\n",
    "\n",
    "from galpy.potential import NonInertialFrameForce\n",
    "nip= NonInertialFrameForce(a0=[ax_int,ay_int,az_int])"
   ]
  },
  {
   "cell_type": "code",
   "execution_count": 37,
   "id": "a559b934",
   "metadata": {},
   "outputs": [
    {
     "name": "stderr",
     "output_type": "stream",
     "text": [
      "                                                                                \r"
     ]
    }
   ],
   "source": [
    "MWpot17=McMillan17+moving_lmcpot+nip\n",
    "ts= np.linspace(0.,-t/to,n)\n",
    "\n",
    "o17lmc.integrate(ts, pot=MWpot17)\n",
    "o_unc17lmc.integrate(ts, pot=MWpot17)"
   ]
  },
  {
   "cell_type": "code",
   "execution_count": 40,
   "id": "57ffed4b",
   "metadata": {},
   "outputs": [
    {
     "data": {
      "image/png": "[encoded data removed]",
      "text/plain": [
       "<Figure size 432x288 with 1 Axes>"
      ]
     },
     "metadata": {
      "needs_background": "light"
     },
     "output_type": "display_data"
    }
   ],
   "source": [
    "o_unc17lmc.plot(d1='y', d2='z', alpha=0.1, c='#17becf')\n",
    "o17lmc.plot(d1='y', d2='z', overplot=True, c='b')\n",
    "\n",
    "ax = plt.gca()\n",
    "ax.set_xlim(-175, 175)\n",
    "ax.set_ylim(-175, 175)\n",
    "ax.set_aspect('equal', adjustable='box')"
   ]
  },
  {
   "cell_type": "code",
   "execution_count": 39,
   "id": "320b93f5",
   "metadata": {},
   "outputs": [
    {
     "name": "stdout",
     "output_type": "stream",
     "text": [
      "Pericentre error: 1.8977672956563487 mean: 7.973303779529275\n",
      "Apocentre error: 6.478030580127266 mean: 89.05250090990623\n"
     ]
    }
   ],
   "source": [
    "p = o_unc17lmc.rperi()\n",
    "a = o_unc17lmc.rap()\n",
    "\n",
    "p_std = np.std(p)\n",
    "a_std = np.std(a)\n",
    "p_mean = np.mean(p)\n",
    "a_mean = np.mean(a)\n",
    "\n",
    "print('Pericentre error:', p_std, 'mean:', p_mean)\n",
    "print('Apocentre error:', a_std, 'mean:', a_mean)"
   ]
  },
  {
   "cell_type": "code",
   "execution_count": null,
   "id": "7e650e77",
   "metadata": {},
   "outputs": [],
   "source": []
  },
  {
   "cell_type": "markdown",
   "id": "16295f56",
   "metadata": {},
   "source": [
    "## MWPotential2014 mass doubled"
   ]
  },
  {
   "cell_type": "code",
   "execution_count": 46,
   "id": "1b688b7d",
   "metadata": {},
   "outputs": [],
   "source": [
    "MWpotx2 = MWPotential2014.copy()\n",
    "MWpotx2[2]*=2"
   ]
  },
  {
   "cell_type": "code",
   "execution_count": 47,
   "id": "dfdce659",
   "metadata": {},
   "outputs": [],
   "source": [
    "o2 = Orbit(sixD, radec=True, solarmotion=solarmotion)\n",
    "o_unc2 = Orbit(sixD_unc, radec=True, solarmotion=solarmotion)"
   ]
  },
  {
   "cell_type": "code",
   "execution_count": 51,
   "id": "3124e092",
   "metadata": {},
   "outputs": [
    {
     "name": "stderr",
     "output_type": "stream",
     "text": [
      "                                                                                \r"
     ]
    }
   ],
   "source": [
    "o2.integrate(ts/2, MWpotx2)\n",
    "o_unc2.integrate(ts/2, MWpotx2)"
   ]
  },
  {
   "cell_type": "code",
   "execution_count": 52,
   "id": "d104db81",
   "metadata": {},
   "outputs": [
    {
     "data": {
      "image/png": "[encoded data removed]",
      "text/plain": [
       "<Figure size 432x288 with 1 Axes>"
      ]
     },
     "metadata": {
      "needs_background": "light"
     },
     "output_type": "display_data"
    }
   ],
   "source": [
    "o_unc2.plot(d1='y', d2='z', alpha=0.1, c='#17becf')\n",
    "o2.plot(d1='y', d2='z', overplot=True, c='b')\n",
    "\n",
    "ax = plt.gca()\n",
    "ax.set_xlim(-175, 175)\n",
    "ax.set_ylim(-175, 175)\n",
    "ax.set_aspect('equal', adjustable='box')"
   ]
  },
  {
   "cell_type": "code",
   "execution_count": 53,
   "id": "6b266e80",
   "metadata": {},
   "outputs": [
    {
     "name": "stdout",
     "output_type": "stream",
     "text": [
      "Pericentre error: 1.7715022583438913 mean: 7.952273545341717\n",
      "Apocentre error: 5.7996156591468875 mean: 83.52090080156798\n"
     ]
    }
   ],
   "source": [
    "p = o_unc2.rperi()\n",
    "a = o_unc2.rap()\n",
    "\n",
    "p_std = np.std(p)\n",
    "a_std = np.std(a)\n",
    "p_mean = np.mean(p)\n",
    "a_mean = np.mean(a)\n",
    "\n",
    "print('Pericentre error:', p_std, 'mean:', p_mean)\n",
    "print('Apocentre error:', a_std, 'mean:', a_mean)"
   ]
  },
  {
   "cell_type": "markdown",
   "id": "d4cfa2d0",
   "metadata": {},
   "source": [
    "## Mass doubled including LMC"
   ]
  },
  {
   "cell_type": "code",
   "execution_count": 55,
   "id": "3a678a12",
   "metadata": {},
   "outputs": [],
   "source": [
    "o2lmc = Orbit(sixD, radec=True, solarmotion=solarmotion)\n",
    "o_unc2lmc = Orbit(sixD_unc, radec=True, solarmotion=solarmotion)"
   ]
  },
  {
   "cell_type": "code",
   "execution_count": 54,
   "id": "36dfd975",
   "metadata": {},
   "outputs": [
    {
     "name": "stdout",
     "output_type": "stream",
     "text": [
      "galpyWarning: Cannot use symplectic integration because some of the included forces are dissipative (using non-symplectic integrator dopr54_c instead)\n",
      "galpyWarning: You specified integration times as a Quantity, but are evaluating at times not specified as a Quantity; assuming that time given is in natural (internal) units (multiply time by unit to get output at physical time)\n"
     ]
    }
   ],
   "source": [
    "MWpotx2LMC = graphics.lmc_potential_wacc(t, pot=MWpotx2)"
   ]
  },
  {
   "cell_type": "code",
   "execution_count": 56,
   "id": "aa3d0f06",
   "metadata": {},
   "outputs": [
    {
     "name": "stderr",
     "output_type": "stream",
     "text": [
      "                                                                                \r"
     ]
    }
   ],
   "source": [
    "o2lmc.integrate(ts/2, MWpotx2LMC)\n",
    "o_unc2lmc.integrate(ts/2, MWpotx2LMC)"
   ]
  },
  {
   "cell_type": "code",
   "execution_count": 57,
   "id": "40d4609f",
   "metadata": {},
   "outputs": [
    {
     "data": {
      "image/png": "[encoded data removed]",
      "text/plain": [
       "<Figure size 432x288 with 1 Axes>"
      ]
     },
     "metadata": {
      "needs_background": "light"
     },
     "output_type": "display_data"
    }
   ],
   "source": [
    "o_unc2lmc.plot(d1='y', d2='z', alpha=0.1, c='#17becf')\n",
    "o2lmc.plot(d1='y', d2='z', overplot=True, c='b')\n",
    "\n",
    "ax = plt.gca()\n",
    "ax.set_xlim(-175, 175)\n",
    "ax.set_ylim(-175, 175)\n",
    "ax.set_aspect('equal', adjustable='box')"
   ]
  },
  {
   "cell_type": "code",
   "execution_count": 58,
   "id": "4e69e655",
   "metadata": {},
   "outputs": [
    {
     "name": "stdout",
     "output_type": "stream",
     "text": [
      "Pericentre error: 1.8231920644521131 mean: 8.400712648513794\n",
      "Apocentre error: 5.059445246798177 mean: 77.02318353102045\n"
     ]
    }
   ],
   "source": [
    "p = o_unc2lmc.rperi()\n",
    "a = o_unc2lmc.rap()\n",
    "\n",
    "p_std = np.std(p)\n",
    "a_std = np.std(a)\n",
    "p_mean = np.mean(p)\n",
    "a_mean = np.mean(a)\n",
    "\n",
    "print('Pericentre error:', p_std, 'mean:', p_mean)\n",
    "print('Apocentre error:', a_std, 'mean:', a_mean)"
   ]
  },
  {
   "cell_type": "code",
   "execution_count": null,
   "id": "62994f0b",
   "metadata": {},
   "outputs": [],
   "source": []
  },
  {
   "cell_type": "markdown",
   "id": "45ad0f92",
   "metadata": {},
   "source": [
    "## Compute mean actions"
   ]
  },
  {
   "cell_type": "markdown",
   "id": "60f6a8de",
   "metadata": {},
   "source": [
    "### MWPotential2014"
   ]
  },
  {
   "cell_type": "code",
   "execution_count": 60,
   "id": "64018dbf",
   "metadata": {},
   "outputs": [
    {
     "name": "stdout",
     "output_type": "stream",
     "text": [
      "Azimuthal Action error: 30.72900902326371 mean: 9.22529332161165\n",
      "Radial Action error: 736.2698038611242 mean: 8086.926248523787\n",
      "Vertical Action error: 773.1401776334179 mean: 4144.771081621093\n"
     ]
    }
   ],
   "source": [
    "jp = o_unc.jp(pot=MWPotential2014)\n",
    "jr = o_unc.jr(pot=MWPotential2014)\n",
    "jz = o_unc.jz(pot=MWPotential2014)\n",
    "\n",
    "jp_std = np.std(jp)\n",
    "jr_std = np.std(jr)\n",
    "jz_std = np.std(jz)\n",
    "\n",
    "jp_mean = np.mean(jp)\n",
    "jr_mean = np.mean(jr)\n",
    "jz_mean = np.mean(jz)\n",
    "\n",
    "print('Azimuthal Action error:', jp_std, 'mean:', jp_mean)\n",
    "print('Radial Action error:', jr_std, 'mean:', jr_mean)\n",
    "print('Vertical Action error:', jz_std, 'mean:', jz_mean)"
   ]
  },
  {
   "cell_type": "markdown",
   "id": "29bc091c",
   "metadata": {},
   "source": [
    "### MWPotential2014 inc. LMC"
   ]
  },
  {
   "cell_type": "code",
   "execution_count": 76,
   "id": "6746b645",
   "metadata": {},
   "outputs": [
    {
     "ename": "PotentialError",
     "evalue": "'Automagic calculation of delta parameter for Staeckel approximation failed because the given potential is not axisymmetric; pass an axisymmetric potential instead'",
     "output_type": "error",
     "traceback": [
      "\u001b[0;31m---------------------------------------------------------------------------\u001b[0m",
      "\u001b[0;31mPotentialError\u001b[0m                            Traceback (most recent call last)",
      "File \u001b[0;32m~/.local/lib/python3.10/site-packages/galpy/orbit/Orbits.py:1920\u001b[0m, in \u001b[0;36mOrbit._setupaA\u001b[0;34m(self, pot, type, **kwargs)\u001b[0m\n\u001b[1;32m   1919\u001b[0m \u001b[38;5;28;01mtry\u001b[39;00m:\n\u001b[0;32m-> 1920\u001b[0m     delta\u001b[38;5;241m=\u001b[39m \u001b[43mactionAngle\u001b[49m\u001b[38;5;241;43m.\u001b[39;49m\u001b[43mestimateDeltaStaeckel\u001b[49m\u001b[43m(\u001b[49m\u001b[43m\\\u001b[49m\n\u001b[1;32m   1921\u001b[0m \u001b[43m        \u001b[49m\u001b[38;5;28;43mself\u001b[39;49m\u001b[38;5;241;43m.\u001b[39;49m\u001b[43m_aAPot\u001b[49m\u001b[43m,\u001b[49m\n\u001b[1;32m   1922\u001b[0m \u001b[43m        \u001b[49m\u001b[38;5;28;43mself\u001b[39;49m\u001b[38;5;241;43m.\u001b[39;49m\u001b[43mR\u001b[49m\u001b[43m(\u001b[49m\u001b[43muse_physical\u001b[49m\u001b[38;5;241;43m=\u001b[39;49m\u001b[38;5;28;43;01mFalse\u001b[39;49;00m\u001b[43m,\u001b[49m\u001b[43mdontreshape\u001b[49m\u001b[38;5;241;43m=\u001b[39;49m\u001b[38;5;28;43;01mTrue\u001b[39;49;00m\u001b[43m)\u001b[49m\u001b[43m,\u001b[49m\n\u001b[1;32m   1923\u001b[0m \u001b[43m        \u001b[49m\u001b[43mtz\u001b[49m\u001b[43m,\u001b[49m\u001b[43mno_median\u001b[49m\u001b[38;5;241;43m=\u001b[39;49m\u001b[38;5;28;43;01mTrue\u001b[39;49;00m\u001b[43m,\u001b[49m\u001b[43muse_physical\u001b[49m\u001b[38;5;241;43m=\u001b[39;49m\u001b[38;5;28;43;01mFalse\u001b[39;49;00m\u001b[43m)\u001b[49m\n\u001b[1;32m   1924\u001b[0m \u001b[38;5;28;01mexcept\u001b[39;00m PotentialError \u001b[38;5;28;01mas\u001b[39;00m e:\n",
      "File \u001b[0;32m~/.local/lib/python3.10/site-packages/galpy/util/conversion.py:910\u001b[0m, in \u001b[0;36mpotential_physical_input.<locals>.wrapper\u001b[0;34m(*args, **kwargs)\u001b[0m\n\u001b[1;32m    909\u001b[0m     kwargs[\u001b[38;5;124m'\u001b[39m\u001b[38;5;124mzmax\u001b[39m\u001b[38;5;124m'\u001b[39m]\u001b[38;5;241m=\u001b[39m kwargs[\u001b[38;5;124m'\u001b[39m\u001b[38;5;124mzmax\u001b[39m\u001b[38;5;124m'\u001b[39m]\u001b[38;5;241m.\u001b[39mto(units\u001b[38;5;241m.\u001b[39mkpc)\u001b[38;5;241m.\u001b[39mvalue\u001b[38;5;241m/\u001b[39mro\n\u001b[0;32m--> 910\u001b[0m \u001b[38;5;28;01mreturn\u001b[39;00m \u001b[43mmethod\u001b[49m\u001b[43m(\u001b[49m\u001b[38;5;241;43m*\u001b[39;49m\u001b[43margs\u001b[49m\u001b[43m,\u001b[49m\u001b[38;5;241;43m*\u001b[39;49m\u001b[38;5;241;43m*\u001b[39;49m\u001b[43mkwargs\u001b[49m\u001b[43m)\u001b[49m\n",
      "File \u001b[0;32m~/.local/lib/python3.10/site-packages/galpy/util/conversion.py:832\u001b[0m, in \u001b[0;36mphysical_conversion.<locals>.wrapper.<locals>.wrapped\u001b[0;34m(*args, **kwargs)\u001b[0m\n\u001b[1;32m    831\u001b[0m \u001b[38;5;28;01melse\u001b[39;00m:\n\u001b[0;32m--> 832\u001b[0m     \u001b[38;5;28;01mreturn\u001b[39;00m \u001b[43mmethod\u001b[49m\u001b[43m(\u001b[49m\u001b[38;5;241;43m*\u001b[39;49m\u001b[43margs\u001b[49m\u001b[43m,\u001b[49m\u001b[38;5;241;43m*\u001b[39;49m\u001b[38;5;241;43m*\u001b[39;49m\u001b[43mkwargs\u001b[49m\u001b[43m)\u001b[49m\n",
      "File \u001b[0;32m~/.local/lib/python3.10/site-packages/galpy/actionAngle/actionAngleStaeckel.py:1059\u001b[0m, in \u001b[0;36mestimateDeltaStaeckel\u001b[0;34m(pot, R, z, no_median)\u001b[0m\n\u001b[1;32m   1058\u001b[0m \u001b[38;5;28;01mif\u001b[39;00m \u001b[38;5;28misinstance\u001b[39m(R,numpy\u001b[38;5;241m.\u001b[39mndarray):\n\u001b[0;32m-> 1059\u001b[0m     delta2\u001b[38;5;241m=\u001b[39m numpy\u001b[38;5;241m.\u001b[39marray([(z[ii]\u001b[38;5;241m*\u001b[39m\u001b[38;5;241m*\u001b[39m\u001b[38;5;241m2.\u001b[39m\u001b[38;5;241m-\u001b[39mR[ii]\u001b[38;5;241m*\u001b[39m\u001b[38;5;241m*\u001b[39m\u001b[38;5;241m2.\u001b[39m \u001b[38;5;66;03m#eqn. (9) has a sign error\u001b[39;00m\n\u001b[1;32m   1060\u001b[0m                        \u001b[38;5;241m+\u001b[39m(\u001b[38;5;241m3.\u001b[39m\u001b[38;5;241m*\u001b[39mR[ii]\u001b[38;5;241m*\u001b[39m_evaluatezforces(pot,R[ii],z[ii])\n\u001b[1;32m   1061\u001b[0m                          \u001b[38;5;241m-\u001b[39m\u001b[38;5;241m3.\u001b[39m\u001b[38;5;241m*\u001b[39mz[ii]\u001b[38;5;241m*\u001b[39m_evaluateRforces(pot,R[ii],z[ii])\n\u001b[1;32m   1062\u001b[0m                          \u001b[38;5;241m+\u001b[39mR[ii]\u001b[38;5;241m*\u001b[39mz[ii]\u001b[38;5;241m*\u001b[39m(evaluateR2derivs(pot,R[ii],z[ii],\n\u001b[1;32m   1063\u001b[0m                                                         use_physical\u001b[38;5;241m=\u001b[39m\u001b[38;5;28;01mFalse\u001b[39;00m)\n\u001b[1;32m   1064\u001b[0m                                        \u001b[38;5;241m-\u001b[39mevaluatez2derivs(pot,R[ii],z[ii],\n\u001b[1;32m   1065\u001b[0m                                                          use_physical\u001b[38;5;241m=\u001b[39m\u001b[38;5;28;01mFalse\u001b[39;00m)))\u001b[38;5;241m/\u001b[39mevaluateRzderivs(pot,R[ii],z[ii],use_physical\u001b[38;5;241m=\u001b[39m\u001b[38;5;28;01mFalse\u001b[39;00m)) \u001b[38;5;28;01mfor\u001b[39;00m ii \u001b[38;5;129;01min\u001b[39;00m \u001b[38;5;28mrange\u001b[39m(\u001b[38;5;28mlen\u001b[39m(R))])\n\u001b[1;32m   1066\u001b[0m     indx\u001b[38;5;241m=\u001b[39m (delta2 \u001b[38;5;241m<\u001b[39m \u001b[38;5;241m0.\u001b[39m)\u001b[38;5;241m*\u001b[39m(delta2 \u001b[38;5;241m>\u001b[39m \u001b[38;5;241m-\u001b[39m\u001b[38;5;241m10.\u001b[39m\u001b[38;5;241m*\u001b[39m\u001b[38;5;241m*\u001b[39m\u001b[38;5;241m-\u001b[39m\u001b[38;5;241m10.\u001b[39m)\n",
      "File \u001b[0;32m~/.local/lib/python3.10/site-packages/galpy/actionAngle/actionAngleStaeckel.py:1060\u001b[0m, in \u001b[0;36m<listcomp>\u001b[0;34m(.0)\u001b[0m\n\u001b[1;32m   1058\u001b[0m \u001b[38;5;28;01mif\u001b[39;00m \u001b[38;5;28misinstance\u001b[39m(R,numpy\u001b[38;5;241m.\u001b[39mndarray):\n\u001b[1;32m   1059\u001b[0m     delta2\u001b[38;5;241m=\u001b[39m numpy\u001b[38;5;241m.\u001b[39marray([(z[ii]\u001b[38;5;241m*\u001b[39m\u001b[38;5;241m*\u001b[39m\u001b[38;5;241m2.\u001b[39m\u001b[38;5;241m-\u001b[39mR[ii]\u001b[38;5;241m*\u001b[39m\u001b[38;5;241m*\u001b[39m\u001b[38;5;241m2.\u001b[39m \u001b[38;5;66;03m#eqn. (9) has a sign error\u001b[39;00m\n\u001b[0;32m-> 1060\u001b[0m                        \u001b[38;5;241m+\u001b[39m(\u001b[38;5;241m3.\u001b[39m\u001b[38;5;241m*\u001b[39mR[ii]\u001b[38;5;241m*\u001b[39m\u001b[43m_evaluatezforces\u001b[49m\u001b[43m(\u001b[49m\u001b[43mpot\u001b[49m\u001b[43m,\u001b[49m\u001b[43mR\u001b[49m\u001b[43m[\u001b[49m\u001b[43mii\u001b[49m\u001b[43m]\u001b[49m\u001b[43m,\u001b[49m\u001b[43mz\u001b[49m\u001b[43m[\u001b[49m\u001b[43mii\u001b[49m\u001b[43m]\u001b[49m\u001b[43m)\u001b[49m\n\u001b[1;32m   1061\u001b[0m                          \u001b[38;5;241m-\u001b[39m\u001b[38;5;241m3.\u001b[39m\u001b[38;5;241m*\u001b[39mz[ii]\u001b[38;5;241m*\u001b[39m_evaluateRforces(pot,R[ii],z[ii])\n\u001b[1;32m   1062\u001b[0m                          \u001b[38;5;241m+\u001b[39mR[ii]\u001b[38;5;241m*\u001b[39mz[ii]\u001b[38;5;241m*\u001b[39m(evaluateR2derivs(pot,R[ii],z[ii],\n\u001b[1;32m   1063\u001b[0m                                                         use_physical\u001b[38;5;241m=\u001b[39m\u001b[38;5;28;01mFalse\u001b[39;00m)\n\u001b[1;32m   1064\u001b[0m                                        \u001b[38;5;241m-\u001b[39mevaluatez2derivs(pot,R[ii],z[ii],\n\u001b[1;32m   1065\u001b[0m                                                          use_physical\u001b[38;5;241m=\u001b[39m\u001b[38;5;28;01mFalse\u001b[39;00m)))\u001b[38;5;241m/\u001b[39mevaluateRzderivs(pot,R[ii],z[ii],use_physical\u001b[38;5;241m=\u001b[39m\u001b[38;5;28;01mFalse\u001b[39;00m)) \u001b[38;5;28;01mfor\u001b[39;00m ii \u001b[38;5;129;01min\u001b[39;00m \u001b[38;5;28mrange\u001b[39m(\u001b[38;5;28mlen\u001b[39m(R))])\n\u001b[1;32m   1066\u001b[0m     indx\u001b[38;5;241m=\u001b[39m (delta2 \u001b[38;5;241m<\u001b[39m \u001b[38;5;241m0.\u001b[39m)\u001b[38;5;241m*\u001b[39m(delta2 \u001b[38;5;241m>\u001b[39m \u001b[38;5;241m-\u001b[39m\u001b[38;5;241m10.\u001b[39m\u001b[38;5;241m*\u001b[39m\u001b[38;5;241m*\u001b[39m\u001b[38;5;241m-\u001b[39m\u001b[38;5;241m10.\u001b[39m)\n",
      "File \u001b[0;32m~/.local/lib/python3.10/site-packages/galpy/potential/Potential.py:2258\u001b[0m, in \u001b[0;36m_evaluatezforces\u001b[0;34m(Pot, R, z, phi, t, v)\u001b[0m\n\u001b[1;32m   2257\u001b[0m \u001b[38;5;28;01mif\u001b[39;00m nonAxi \u001b[38;5;129;01mand\u001b[39;00m phi \u001b[38;5;129;01mis\u001b[39;00m \u001b[38;5;28;01mNone\u001b[39;00m:\n\u001b[0;32m-> 2258\u001b[0m     \u001b[38;5;28;01mraise\u001b[39;00m PotentialError(\u001b[38;5;124m\"\u001b[39m\u001b[38;5;124mThe (list of) Potential instances is non-axisymmetric, but you did not provide phi\u001b[39m\u001b[38;5;124m\"\u001b[39m)\n\u001b[1;32m   2259\u001b[0m dissipative\u001b[38;5;241m=\u001b[39m _isDissipative(Pot)\n",
      "\u001b[0;31mPotentialError\u001b[0m: 'The (list of) Potential instances is non-axisymmetric, but you did not provide phi'",
      "\nDuring handling of the above exception, another exception occurred:\n",
      "\u001b[0;31mPotentialError\u001b[0m                            Traceback (most recent call last)",
      "Input \u001b[0;32mIn [76]\u001b[0m, in \u001b[0;36m<module>\u001b[0;34m\u001b[0m\n\u001b[0;32m----> 1\u001b[0m jp \u001b[38;5;241m=\u001b[39m \u001b[43mo_unclmc\u001b[49m\u001b[38;5;241;43m.\u001b[39;49m\u001b[43mjp\u001b[49m\u001b[43m(\u001b[49m\u001b[43mpot\u001b[49m\u001b[38;5;241;43m=\u001b[39;49m\u001b[43mMWpotLMC\u001b[49m\u001b[43m)\u001b[49m\n\u001b[1;32m      2\u001b[0m jr \u001b[38;5;241m=\u001b[39m o_unclmc\u001b[38;5;241m.\u001b[39mjr(pot\u001b[38;5;241m=\u001b[39mMWpotLMC)\n\u001b[1;32m      3\u001b[0m jz \u001b[38;5;241m=\u001b[39m o_unclmc\u001b[38;5;241m.\u001b[39mjz(pot\u001b[38;5;241m=\u001b[39mMWpotLMC)\n",
      "File \u001b[0;32m~/.local/lib/python3.10/site-packages/galpy/util/conversion.py:824\u001b[0m, in \u001b[0;36mphysical_conversion.<locals>.wrapper.<locals>.wrapped\u001b[0;34m(*args, **kwargs)\u001b[0m\n\u001b[1;32m    822\u001b[0m     \u001b[38;5;28;01mif\u001b[39;00m _apy_units:\n\u001b[1;32m    823\u001b[0m         u\u001b[38;5;241m=\u001b[39m units\u001b[38;5;241m.\u001b[39mdimensionless_unscaled\n\u001b[0;32m--> 824\u001b[0m out\u001b[38;5;241m=\u001b[39m \u001b[43mmethod\u001b[49m\u001b[43m(\u001b[49m\u001b[38;5;241;43m*\u001b[39;49m\u001b[43margs\u001b[49m\u001b[43m,\u001b[49m\u001b[38;5;241;43m*\u001b[39;49m\u001b[38;5;241;43m*\u001b[39;49m\u001b[43mkwargs\u001b[49m\u001b[43m)\u001b[49m\n\u001b[1;32m    825\u001b[0m \u001b[38;5;28;01mif\u001b[39;00m out \u001b[38;5;129;01mis\u001b[39;00m \u001b[38;5;28;01mNone\u001b[39;00m:\n\u001b[1;32m    826\u001b[0m     \u001b[38;5;28;01mreturn\u001b[39;00m out\n",
      "File \u001b[0;32m~/.local/lib/python3.10/site-packages/galpy/orbit/Orbits.py:150\u001b[0m, in \u001b[0;36mshapeDecorator.<locals>.shape_wrapper\u001b[0;34m(*args, **kwargs)\u001b[0m\n\u001b[1;32m    147\u001b[0m \u001b[38;5;129m@wraps\u001b[39m(func)\n\u001b[1;32m    148\u001b[0m \u001b[38;5;28;01mdef\u001b[39;00m \u001b[38;5;21mshape_wrapper\u001b[39m(\u001b[38;5;241m*\u001b[39margs,\u001b[38;5;241m*\u001b[39m\u001b[38;5;241m*\u001b[39mkwargs):\n\u001b[1;32m    149\u001b[0m     dontreshape\u001b[38;5;241m=\u001b[39m kwargs\u001b[38;5;241m.\u001b[39mget(\u001b[38;5;124m'\u001b[39m\u001b[38;5;124mdontreshape\u001b[39m\u001b[38;5;124m'\u001b[39m,\u001b[38;5;28;01mFalse\u001b[39;00m)\n\u001b[0;32m--> 150\u001b[0m     result\u001b[38;5;241m=\u001b[39m \u001b[43mfunc\u001b[49m\u001b[43m(\u001b[49m\u001b[38;5;241;43m*\u001b[39;49m\u001b[43margs\u001b[49m\u001b[43m,\u001b[49m\u001b[38;5;241;43m*\u001b[39;49m\u001b[38;5;241;43m*\u001b[39;49m\u001b[43mkwargs\u001b[49m\u001b[43m)\u001b[49m\n\u001b[1;32m    151\u001b[0m     \u001b[38;5;28;01mif\u001b[39;00m dontreshape:\n\u001b[1;32m    152\u001b[0m         \u001b[38;5;28;01mreturn\u001b[39;00m result\n",
      "File \u001b[0;32m~/.local/lib/python3.10/site-packages/galpy/orbit/Orbits.py:2486\u001b[0m, in \u001b[0;36mOrbit.jp\u001b[0;34m(self, pot, **kwargs)\u001b[0m\n\u001b[1;32m   2445\u001b[0m \u001b[38;5;124;03m\"\"\"\u001b[39;00m\n\u001b[1;32m   2446\u001b[0m \u001b[38;5;124;03mNAME:\u001b[39;00m\n\u001b[1;32m   2447\u001b[0m \n\u001b[0;32m   (...)\u001b[0m\n\u001b[1;32m   2483\u001b[0m \n\u001b[1;32m   2484\u001b[0m \u001b[38;5;124;03m\"\"\"\u001b[39;00m\n\u001b[1;32m   2485\u001b[0m \u001b[38;5;28;01mtry\u001b[39;00m:\n\u001b[0;32m-> 2486\u001b[0m     \u001b[38;5;28;43mself\u001b[39;49m\u001b[38;5;241;43m.\u001b[39;49m\u001b[43m_setup_actionsFreqsAngles\u001b[49m\u001b[43m(\u001b[49m\u001b[43mpot\u001b[49m\u001b[38;5;241;43m=\u001b[39;49m\u001b[43mpot\u001b[49m\u001b[43m,\u001b[49m\u001b[38;5;241;43m*\u001b[39;49m\u001b[38;5;241;43m*\u001b[39;49m\u001b[43mkwargs\u001b[49m\u001b[43m)\u001b[49m\n\u001b[1;32m   2487\u001b[0m \u001b[38;5;28;01mexcept\u001b[39;00m \u001b[38;5;167;01mNotImplementedError\u001b[39;00m: \u001b[38;5;66;03m# pragma: no cover\u001b[39;00m\n\u001b[1;32m   2488\u001b[0m     \u001b[38;5;28mself\u001b[39m\u001b[38;5;241m.\u001b[39m_setup_actions(pot\u001b[38;5;241m=\u001b[39mpot,\u001b[38;5;241m*\u001b[39m\u001b[38;5;241m*\u001b[39mkwargs)\n",
      "File \u001b[0;32m~/.local/lib/python3.10/site-packages/galpy/orbit/Orbits.py:1975\u001b[0m, in \u001b[0;36mOrbit._setup_actionsFreqsAngles\u001b[0;34m(self, pot, **kwargs)\u001b[0m\n\u001b[1;32m   1973\u001b[0m \u001b[38;5;28;01mdef\u001b[39;00m \u001b[38;5;21m_setup_actionsFreqsAngles\u001b[39m(\u001b[38;5;28mself\u001b[39m,pot\u001b[38;5;241m=\u001b[39m\u001b[38;5;28;01mNone\u001b[39;00m,\u001b[38;5;241m*\u001b[39m\u001b[38;5;241m*\u001b[39mkwargs):\n\u001b[1;32m   1974\u001b[0m     \u001b[38;5;124;03m\"\"\"Internal function to compute the actions, frequencies, and angles and cache them for re-use\"\"\"\u001b[39;00m\n\u001b[0;32m-> 1975\u001b[0m     \u001b[38;5;28;43mself\u001b[39;49m\u001b[38;5;241;43m.\u001b[39;49m\u001b[43m_setupaA\u001b[49m\u001b[43m(\u001b[49m\u001b[43mpot\u001b[49m\u001b[38;5;241;43m=\u001b[39;49m\u001b[43mpot\u001b[49m\u001b[43m,\u001b[49m\u001b[38;5;241;43m*\u001b[39;49m\u001b[38;5;241;43m*\u001b[39;49m\u001b[43mkwargs\u001b[49m\u001b[43m)\u001b[49m\n\u001b[1;32m   1976\u001b[0m     \u001b[38;5;28;01mif\u001b[39;00m \u001b[38;5;28mhasattr\u001b[39m(\u001b[38;5;28mself\u001b[39m,\u001b[38;5;124m'\u001b[39m\u001b[38;5;124m_aA_jr\u001b[39m\u001b[38;5;124m'\u001b[39m): \u001b[38;5;28;01mreturn\u001b[39;00m \u001b[38;5;28;01mNone\u001b[39;00m\n\u001b[1;32m   1977\u001b[0m     \u001b[38;5;28;01mif\u001b[39;00m \u001b[38;5;28mself\u001b[39m\u001b[38;5;241m.\u001b[39mdim() \u001b[38;5;241m==\u001b[39m \u001b[38;5;241m3\u001b[39m:\n\u001b[1;32m   1978\u001b[0m         \u001b[38;5;66;03m# try to make sure this is not 0\u001b[39;00m\n",
      "File \u001b[0;32m~/.local/lib/python3.10/site-packages/galpy/orbit/Orbits.py:1928\u001b[0m, in \u001b[0;36mOrbit._setupaA\u001b[0;34m(self, pot, type, **kwargs)\u001b[0m\n\u001b[1;32m   1926\u001b[0m     \u001b[38;5;28;01mraise\u001b[39;00m PotentialError(\u001b[38;5;124m'\u001b[39m\u001b[38;5;124mAutomagic calculation of delta parameter for Staeckel approximation failed because the necessary second derivatives of the given potential are not implemented; set delta= explicitly (to a single value or an array with the same shape as the orbits\u001b[39m\u001b[38;5;124m'\u001b[39m)\n\u001b[1;32m   1927\u001b[0m \u001b[38;5;28;01melif\u001b[39;00m \u001b[38;5;124m'\u001b[39m\u001b[38;5;124mnon-axi\u001b[39m\u001b[38;5;124m'\u001b[39m \u001b[38;5;129;01min\u001b[39;00m \u001b[38;5;28mstr\u001b[39m(e):\n\u001b[0;32m-> 1928\u001b[0m     \u001b[38;5;28;01mraise\u001b[39;00m PotentialError(\u001b[38;5;124m'\u001b[39m\u001b[38;5;124mAutomagic calculation of delta parameter for Staeckel approximation failed because the given potential is not axisymmetric; pass an axisymmetric potential instead\u001b[39m\u001b[38;5;124m'\u001b[39m)\n\u001b[1;32m   1929\u001b[0m \u001b[38;5;28;01melse\u001b[39;00m: \u001b[38;5;66;03m#pragma: no cover\u001b[39;00m\n\u001b[1;32m   1930\u001b[0m     \u001b[38;5;28;01mraise\u001b[39;00m\n",
      "\u001b[0;31mPotentialError\u001b[0m: 'Automagic calculation of delta parameter for Staeckel approximation failed because the given potential is not axisymmetric; pass an axisymmetric potential instead'"
     ]
    }
   ],
   "source": [
    "jp = o_unclmc.jp(pot=MWpotLMC)\n",
    "jr = o_unclmc.jr(pot=MWpotLMC)\n",
    "jz = o_unclmc.jz(pot=MWpotLMC)\n",
    "\n",
    "jp_std = np.std(jp)\n",
    "jr_std = np.std(jr)\n",
    "jz_std = np.std(jz)\n",
    "\n",
    "jp_mean = np.mean(jp)\n",
    "jr_mean = np.mean(jr)\n",
    "jz_mean = np.mean(jz)\n",
    "\n",
    "print('Azimuthal Action error:', jp_std, 'mean:', jp_mean)\n",
    "print('Radial Action error:', jr_std, 'mean:', jr_mean)\n",
    "print('Vertical Action error:', jz_std, 'mean:', jz_mean)"
   ]
  },
  {
   "cell_type": "markdown",
   "id": "4b725445",
   "metadata": {},
   "source": [
    "### McMillan17"
   ]
  },
  {
   "cell_type": "code",
   "execution_count": 72,
   "id": "7b959009",
   "metadata": {},
   "outputs": [
    {
     "name": "stdout",
     "output_type": "stream",
     "text": [
      "Azimuthal Action error: 26.070587463314897 mean: -21.247259056128815\n",
      "Radial Action error: 208.79802739794022 mean: 6250.283974961691\n",
      "Vertical Action error: 777.9773157335883 mean: 3473.4297129764614\n"
     ]
    }
   ],
   "source": [
    "jp = o_unc17.jp(pot=McMillan17[1])\n",
    "jr = o_unc17.jr(pot=McMillan17[1])\n",
    "jz = o_unc17.jz(pot=McMillan17[1])\n",
    "\n",
    "jp_std = np.std(jp)\n",
    "jr_std = np.std(jr)\n",
    "jz_std = np.std(jz)\n",
    "\n",
    "jp_mean = np.mean(jp)\n",
    "jr_mean = np.mean(jr)\n",
    "jz_mean = np.mean(jz)\n",
    "\n",
    "print('Azimuthal Action error:', jp_std, 'mean:', jp_mean)\n",
    "print('Radial Action error:', jr_std, 'mean:', jr_mean)\n",
    "print('Vertical Action error:', jz_std, 'mean:', jz_mean)"
   ]
  },
  {
   "cell_type": "markdown",
   "id": "99243aed",
   "metadata": {},
   "source": [
    "### McMillan17 inc. LMC"
   ]
  },
  {
   "cell_type": "code",
   "execution_count": null,
   "id": "a976fac1",
   "metadata": {},
   "outputs": [],
   "source": [
    "jp = o_unc17lmc.jp(pot=MWpot17)\n",
    "jr = o_unc17lmc.jr(pot=MWpot17)\n",
    "jz = o_unc17lmc.jz(pot=MWpot17)\n",
    "\n",
    "jp_std = np.std(jp)\n",
    "jr_std = np.std(jr)\n",
    "jz_std = np.std(jz)\n",
    "\n",
    "jp_mean = np.mean(jp)\n",
    "jr_mean = np.mean(jr)\n",
    "jz_mean = np.mean(jz)\n",
    "\n",
    "print('Azimuthal Action error:', jp_std, 'mean:', jp_mean)\n",
    "print('Radial Action error:', jr_std, 'mean:', jr_mean)\n",
    "print('Vertical Action error:', jz_std, 'mean:', jz_mean)"
   ]
  },
  {
   "cell_type": "markdown",
   "id": "43291442",
   "metadata": {},
   "source": [
    "### MWPotential2014 x2"
   ]
  },
  {
   "cell_type": "code",
   "execution_count": 78,
   "id": "29bae0e1",
   "metadata": {},
   "outputs": [
    {
     "name": "stdout",
     "output_type": "stream",
     "text": [
      "Azimuthal Action error: 30.72900902326371 mean: 9.22529332161165\n",
      "Radial Action error: 90.87850802900766 mean: 5410.712798879616\n",
      "Vertical Action error: 773.784249139621 mean: 4141.701995250157\n"
     ]
    }
   ],
   "source": [
    "jp = o_unc2.jp(pot=MWpotx2)\n",
    "jr = o_unc2.jr(pot=MWpotx2)\n",
    "jz = o_unc2.jz(pot=MWpotx2)\n",
    "\n",
    "jp_std = np.std(jp)\n",
    "jr_std = np.std(jr)\n",
    "jz_std = np.std(jz)\n",
    "\n",
    "jp_mean = np.mean(jp)\n",
    "jr_mean = np.mean(jr)\n",
    "jz_mean = np.mean(jz)\n",
    "\n",
    "print('Azimuthal Action error:', jp_std, 'mean:', jp_mean)\n",
    "print('Radial Action error:', jr_std, 'mean:', jr_mean)\n",
    "print('Vertical Action error:', jz_std, 'mean:', jz_mean)"
   ]
  },
  {
   "cell_type": "markdown",
   "id": "15250d5c",
   "metadata": {},
   "source": [
    "### MWPotential2014 x2 inc. LMC"
   ]
  },
  {
   "cell_type": "code",
   "execution_count": null,
   "id": "4f104619",
   "metadata": {},
   "outputs": [],
   "source": [
    "jp = o_unc2lmc.jp(pot=MWpotx2LMC)\n",
    "jr = o_unc2lmc.jr(pot=MWpotx2LMC)\n",
    "jz = o_unc2lmc.jz(pot=MWpotx2LMC)\n",
    "\n",
    "jp_std = np.std(jp)\n",
    "jr_std = np.std(jr)\n",
    "jz_std = np.std(jz)\n",
    "\n",
    "jp_mean = np.mean(jp)\n",
    "jr_mean = np.mean(jr)\n",
    "jz_mean = np.mean(jz)\n",
    "\n",
    "print('Azimuthal Action error:', jp_std, 'mean:', jp_mean)\n",
    "print('Radial Action error:', jr_std, 'mean:', jr_mean)\n",
    "print('Vertical Action error:', jz_std, 'mean:', jz_mean)"
   ]
  },
  {
   "cell_type": "code",
   "execution_count": null,
   "id": "6ed6315c",
   "metadata": {},
   "outputs": [],
   "source": []
  },
  {
   "cell_type": "markdown",
   "id": "2c5beda6",
   "metadata": {},
   "source": [
    "## Computing mean energy & angular momentum"
   ]
  },
  {
   "cell_type": "markdown",
   "id": "1fd2c343",
   "metadata": {},
   "source": [
    "### MWPotential2014"
   ]
  },
  {
   "cell_type": "code",
   "execution_count": 102,
   "id": "6a8c07e7",
   "metadata": {},
   "outputs": [
    {
     "name": "stdout",
     "output_type": "stream",
     "text": [
      "Energy error: 2590.9803642877796 mean: 35828.94814465908 in MJ/kg\n",
      "Angular momentum [0] error: 758.2030172892323 mean: 3967.3349994844775\n",
      "Angular momentum [1] error: 283.7963913802559 mean: 969.2020839710142\n",
      "Angular momentum [2] error: 30.729009023263707 mean: 9.225293321611655\n"
     ]
    }
   ],
   "source": [
    "E = o_unc.E()\n",
    "L0 = o_unc.L()[:,0]\n",
    "L1 = o_unc.L()[:,1]\n",
    "L2 = o_unc.L()[:,2]\n",
    "\n",
    "E_std = np.std(E)\n",
    "L0_std = np.std(L0)\n",
    "L1_std = np.std(L1)\n",
    "L2_std = np.std(L2)\n",
    "\n",
    "E_mean = np.mean(E)\n",
    "L0_mean = np.mean(L0)\n",
    "L1_mean = np.mean(L1)\n",
    "L2_mean = np.mean(L2)\n",
    "\n",
    "print('Energy error:', E_std, 'mean:', E_mean, 'in MJ/kg')\n",
    "print('Angular momentum [0] error:', L0_std, 'mean:', L0_mean)\n",
    "print('Angular momentum [1] error:', L1_std, 'mean:', L1_mean)\n",
    "print('Angular momentum [2] error:', L2_std, 'mean:', L2_mean)"
   ]
  },
  {
   "cell_type": "code",
   "execution_count": 103,
   "id": "722613a7",
   "metadata": {},
   "outputs": [
    {
     "data": {
      "text/plain": [
       "[<matplotlib.lines.Line2D at 0x7fc75835bfa0>]"
      ]
     },
     "execution_count": 103,
     "metadata": {},
     "output_type": "execute_result"
    },
    {
     "data": {
      "image/png": "[encoded data removed]",
      "text/plain": [
       "<Figure size 432x288 with 1 Axes>"
      ]
     },
     "metadata": {
      "needs_background": "light"
     },
     "output_type": "display_data"
    },
    {
     "data": {
      "image/png": "[encoded data removed]",
      "text/plain": [
       "<Figure size 432x288 with 1 Axes>"
      ]
     },
     "metadata": {
      "needs_background": "light"
     },
     "output_type": "display_data"
    }
   ],
   "source": [
    "o_unc.plot(d1='E', d2='L')\n",
    "o_unc.plot(d1='E', d2='Lz')"
   ]
  },
  {
   "cell_type": "markdown",
   "id": "e222bdd3",
   "metadata": {},
   "source": [
    "### MWPotential inc. LMC"
   ]
  },
  {
   "cell_type": "code",
   "execution_count": 104,
   "id": "858bf81e",
   "metadata": {},
   "outputs": [
    {
     "name": "stdout",
     "output_type": "stream",
     "text": [
      "galpyWarning: You specified integration times as a Quantity, but are evaluating at times not specified as a Quantity; assuming that time given is in natural (internal) units (multiply time by unit to get output at physical time)\n",
      "Energy error: 2680.399732800738 mean: 31014.73166632739 in MJ/kg\n",
      "Angular momentum [0] error: 758.2030172892323 mean: 3967.3349994844775\n",
      "Angular momentum [1] error: 283.7963913802559 mean: 969.2020839710142\n",
      "Angular momentum [2] error: 30.729009023263707 mean: 9.225293321611655\n"
     ]
    }
   ],
   "source": [
    "E = o_unclmc.E()\n",
    "L0 = o_unclmc.L()[:,0]\n",
    "L1 = o_unclmc.L()[:,1]\n",
    "L2 = o_unclmc.L()[:,2]\n",
    "\n",
    "E_std = np.std(E)\n",
    "L0_std = np.std(L0)\n",
    "L1_std = np.std(L1)\n",
    "L2_std = np.std(L2)\n",
    "\n",
    "E_mean = np.mean(E)\n",
    "L0_mean = np.mean(L0)\n",
    "L1_mean = np.mean(L1)\n",
    "L2_mean = np.mean(L2)\n",
    "\n",
    "print('Energy error:', E_std, 'mean:', E_mean, 'in MJ/kg')\n",
    "print('Angular momentum [0] error:', L0_std, 'mean:', L0_mean)\n",
    "print('Angular momentum [1] error:', L1_std, 'mean:', L1_mean)\n",
    "print('Angular momentum [2] error:', L2_std, 'mean:', L2_mean)"
   ]
  },
  {
   "cell_type": "markdown",
   "id": "c12b0b55",
   "metadata": {},
   "source": [
    "### McMillan17"
   ]
  },
  {
   "cell_type": "code",
   "execution_count": 105,
   "id": "deadc78b",
   "metadata": {},
   "outputs": [
    {
     "name": "stdout",
     "output_type": "stream",
     "text": [
      "Energy error: 2951.712529705389 mean: -65583.14144893996 in MJ/kg\n",
      "Angular momentum [0] error: 734.6051186739606 mean: 3376.5289323058373\n",
      "Angular momentum [1] error: 283.2806064123011 mean: 916.6041444465873\n",
      "Angular momentum [2] error: 26.070587463314894 mean: -21.247259056128815\n"
     ]
    }
   ],
   "source": [
    "E = o_unc17.E()\n",
    "L0 = o_unc17.L()[:,0]\n",
    "L1 = o_unc17.L()[:,1]\n",
    "L2 = o_unc17.L()[:,2]\n",
    "\n",
    "E_std = np.std(E)\n",
    "L0_std = np.std(L0)\n",
    "L1_std = np.std(L1)\n",
    "L2_std = np.std(L2)\n",
    "\n",
    "E_mean = np.mean(E)\n",
    "L0_mean = np.mean(L0)\n",
    "L1_mean = np.mean(L1)\n",
    "L2_mean = np.mean(L2)\n",
    "\n",
    "print('Energy error:', E_std, 'mean:', E_mean, 'in MJ/kg')\n",
    "print('Angular momentum [0] error:', L0_std, 'mean:', L0_mean)\n",
    "print('Angular momentum [1] error:', L1_std, 'mean:', L1_mean)\n",
    "print('Angular momentum [2] error:', L2_std, 'mean:', L2_mean)"
   ]
  },
  {
   "cell_type": "markdown",
   "id": "add741c2",
   "metadata": {},
   "source": [
    "### McMillan17 inc. LMC"
   ]
  },
  {
   "cell_type": "code",
   "execution_count": 106,
   "id": "f965f4e9",
   "metadata": {},
   "outputs": [
    {
     "name": "stdout",
     "output_type": "stream",
     "text": [
      "Energy error: 3055.4814866845204 mean: -71126.25365316638 in MJ/kg\n",
      "Angular momentum [0] error: 734.6051186739606 mean: 3376.5289323058373\n",
      "Angular momentum [1] error: 283.2806064123011 mean: 916.6041444465873\n",
      "Angular momentum [2] error: 26.070587463314894 mean: -21.247259056128815\n"
     ]
    }
   ],
   "source": [
    "E = o_unc17lmc.E()\n",
    "L0 = o_unc17lmc.L()[:,0]\n",
    "L1 = o_unc17lmc.L()[:,1]\n",
    "L2 = o_unc17lmc.L()[:,2]\n",
    "\n",
    "E_std = np.std(E)\n",
    "L0_std = np.std(L0)\n",
    "L1_std = np.std(L1)\n",
    "L2_std = np.std(L2)\n",
    "\n",
    "E_mean = np.mean(E)\n",
    "L0_mean = np.mean(L0)\n",
    "L1_mean = np.mean(L1)\n",
    "L2_mean = np.mean(L2)\n",
    "\n",
    "print('Energy error:', E_std, 'mean:', E_mean, 'in MJ/kg')\n",
    "print('Angular momentum [0] error:', L0_std, 'mean:', L0_mean)\n",
    "print('Angular momentum [1] error:', L1_std, 'mean:', L1_mean)\n",
    "print('Angular momentum [2] error:', L2_std, 'mean:', L2_mean)"
   ]
  },
  {
   "cell_type": "markdown",
   "id": "6e650f6f",
   "metadata": {},
   "source": [
    "### MWPotential x2"
   ]
  },
  {
   "cell_type": "code",
   "execution_count": 107,
   "id": "317b6a39",
   "metadata": {},
   "outputs": [
    {
     "name": "stdout",
     "output_type": "stream",
     "text": [
      "Energy error: 3601.816987648856 mean: -19710.151827093898 in MJ/kg\n",
      "Angular momentum [0] error: 758.2030172892323 mean: 3967.3349994844775\n",
      "Angular momentum [1] error: 283.7963913802559 mean: 969.2020839710142\n",
      "Angular momentum [2] error: 30.729009023263707 mean: 9.225293321611655\n"
     ]
    }
   ],
   "source": [
    "E = o_unc2.E()\n",
    "L0 = o_unc2.L()[:,0]\n",
    "L1 = o_unc2.L()[:,1]\n",
    "L2 = o_unc2.L()[:,2]\n",
    "\n",
    "E_std = np.std(E)\n",
    "L0_std = np.std(L0)\n",
    "L1_std = np.std(L1)\n",
    "L2_std = np.std(L2)\n",
    "\n",
    "E_mean = np.mean(E)\n",
    "L0_mean = np.mean(L0)\n",
    "L1_mean = np.mean(L1)\n",
    "L2_mean = np.mean(L2)\n",
    "\n",
    "print('Energy error:', E_std, 'mean:', E_mean, 'in MJ/kg')\n",
    "print('Angular momentum [0] error:', L0_std, 'mean:', L0_mean)\n",
    "print('Angular momentum [1] error:', L1_std, 'mean:', L1_mean)\n",
    "print('Angular momentum [2] error:', L2_std, 'mean:', L2_mean)"
   ]
  },
  {
   "cell_type": "markdown",
   "id": "3ae2e733",
   "metadata": {},
   "source": [
    "### MWPotential x2 inc. LMC"
   ]
  },
  {
   "cell_type": "code",
   "execution_count": 108,
   "id": "3f1255e5",
   "metadata": {},
   "outputs": [
    {
     "name": "stdout",
     "output_type": "stream",
     "text": [
      "Energy error: 3692.4614705675217 mean: -24524.368305425593 in MJ/kg\n",
      "Angular momentum [0] error: 758.2030172892323 mean: 3967.3349994844775\n",
      "Angular momentum [1] error: 283.7963913802559 mean: 969.2020839710142\n",
      "Angular momentum [2] error: 30.729009023263707 mean: 9.225293321611655\n"
     ]
    }
   ],
   "source": [
    "E = o_unc2lmc.E()\n",
    "L0 = o_unc2lmc.L()[:,0]\n",
    "L1 = o_unc2lmc.L()[:,1]\n",
    "L2 = o_unc2lmc.L()[:,2]\n",
    "\n",
    "E_std = np.std(E)\n",
    "L0_std = np.std(L0)\n",
    "L1_std = np.std(L1)\n",
    "L2_std = np.std(L2)\n",
    "\n",
    "E_mean = np.mean(E)\n",
    "L0_mean = np.mean(L0)\n",
    "L1_mean = np.mean(L1)\n",
    "L2_mean = np.mean(L2)\n",
    "\n",
    "print('Energy error:', E_std, 'mean:', E_mean, 'in MJ/kg')\n",
    "print('Angular momentum [0] error:', L0_std, 'mean:', L0_mean)\n",
    "print('Angular momentum [1] error:', L1_std, 'mean:', L1_mean)\n",
    "print('Angular momentum [2] error:', L2_std, 'mean:', L2_mean)"
   ]
  },
  {
   "cell_type": "code",
   "execution_count": null,
   "id": "01c67083",
   "metadata": {},
   "outputs": [],
   "source": []
  }
 ],
 "metadata": {
  "kernelspec": {
   "display_name": "Python 3 (ipykernel)",
   "language": "python",
   "name": "python3"
  },
  "language_info": {
   "codemirror_mode": {
    "name": "ipython",
    "version": 3
   },
   "file_extension": ".py",
   "mimetype": "text/x-python",
   "name": "python",
   "nbconvert_exporter": "python",
   "pygments_lexer": "ipython3",
   "version": "3.10.2"
  }
 },
 "nbformat": 4,
 "nbformat_minor": 5
}
