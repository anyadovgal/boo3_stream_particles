{
 "cells": [
  {
   "cell_type": "markdown",
   "id": "f84429b5",
   "metadata": {},
   "source": [
    "## Check Ant2 morphology rotation with inclusion of LMC."
   ]
  },
  {
   "cell_type": "code",
   "execution_count": 1,
   "id": "3d680b4c",
   "metadata": {},
   "outputs": [],
   "source": [
    "## Plotting major axis (1sigma & 2sigma) on RA vs. Dec projection"
   ]
  },
  {
   "cell_type": "code",
   "execution_count": null,
   "id": "3f5ff23b",
   "metadata": {},
   "outputs": [],
   "source": []
  }
 ],
 "metadata": {
  "kernelspec": {
   "display_name": "Python 3 (ipykernel)",
   "language": "python",
   "name": "python3"
  },
  "language_info": {
   "codemirror_mode": {
    "name": "ipython",
    "version": 3
   },
   "file_extension": ".py",
   "mimetype": "text/x-python",
   "name": "python",
   "nbconvert_exporter": "python",
   "pygments_lexer": "ipython3",
   "version": "3.10.2"
  }
 },
 "nbformat": 4,
 "nbformat_minor": 5
}
