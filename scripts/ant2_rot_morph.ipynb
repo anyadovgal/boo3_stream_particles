{
 "cells": [
  {
   "cell_type": "markdown",
   "id": "f84429b5",
   "metadata": {},
   "source": [
    "## Check Ant2 morphology rotation with inclusion of LMC."
   ]
  },
  {
   "cell_type": "code",
   "execution_count": 1,
   "id": "3d680b4c",
   "metadata": {},
   "outputs": [],
   "source": [
    "## Plotting major axis (1sigma & 2sigma) on RA vs. Dec projection"
   ]
  },
  {
   "cell_type": "code",
   "execution_count": 4,
   "id": "3f5ff23b",
   "metadata": {},
   "outputs": [],
   "source": [
    "from galpy.orbit import Orbit\n",
    "from galpy.util import conversion"
   ]
  },
  {
   "cell_type": "code",
   "execution_count": 6,
   "id": "ae767a72",
   "metadata": {},
   "outputs": [],
   "source": [
    "ro = 8.\n",
    "vo = 220.\n",
    "to = conversion.time_in_Gyr(ro=ro, vo=vo)\n",
    "\n",
    "# from kinematics paper\n",
    "ant2 = Orbit([143.8017, -36.6991, 131.8, -0.094, 0.103, 288.8], ro=ro, vo=vo, radec=True)\n",
    "\n",
    "# from pace data\n",
    "ant2_ = Orbit([143.8868, -36.7673, 132.0, -0.0928385269606818, 0.0999082937338185, 290.7], ro=ro, vo=vo, radec=True)"
   ]
  },
  {
   "cell_type": "code",
   "execution_count": null,
   "id": "d733049a",
   "metadata": {},
   "outputs": [],
   "source": []
  }
 ],
 "metadata": {
  "kernelspec": {
   "display_name": "Python 3 (ipykernel)",
   "language": "python",
   "name": "python3"
  },
  "language_info": {
   "codemirror_mode": {
    "name": "ipython",
    "version": 3
   },
   "file_extension": ".py",
   "mimetype": "text/x-python",
   "name": "python",
   "nbconvert_exporter": "python",
   "pygments_lexer": "ipython3",
   "version": "3.10.2"
  }
 },
 "nbformat": 4,
 "nbformat_minor": 5
}
