{
 "cells": [
  {
   "cell_type": "markdown",
   "id": "f84429b5",
   "metadata": {},
   "source": [
    "## Check Ant2 morphology rotation with inclusion of LMC."
   ]
  },
  {
   "cell_type": "code",
   "execution_count": 1,
   "id": "3d680b4c",
   "metadata": {},
   "outputs": [],
   "source": [
    "## Plotting major axis (1sigma & 2sigma) on RA vs. Dec projection"
   ]
  },
  {
   "cell_type": "code",
   "execution_count": 19,
   "id": "3f5ff23b",
   "metadata": {},
   "outputs": [],
   "source": [
    "from galpy.orbit import Orbit\n",
    "from galpy.util import conversion\n",
    "from galpy.potential import MWPotential2014, ChandrasekharDynamicalFrictionForce,HernquistPotential,MovingObjectPotential\n",
    "from galpy.potential.mwpotentials import McMillan17\n",
    "#from galpy.df import streamspraydf\n",
    "from streamtools.df import streamspraydf\n",
    "import numpy as np\n",
    "import matplotlib.pyplot as plt"
   ]
  },
  {
   "cell_type": "code",
   "execution_count": 20,
   "id": "ae767a72",
   "metadata": {},
   "outputs": [],
   "source": [
    "ro = conversion.get_physical(McMillan17)['ro']\n",
    "vo = conversion.get_physical(McMillan17)['vo']\n",
    "to = conversion.time_in_Gyr(ro=ro, vo=vo)\n",
    "mo = conversion.mass_in_msol(ro=ro, vo=vo)\n",
    "\n",
    "pot = McMillan17\n",
    "mass_ant = 10**7.92 #msol\n",
    "scale = 1 #kpc\n",
    "tdisrupt = 5\n",
    "\n",
    "# from kinematics paper\n",
    "ant2 = Orbit([143.8017, -36.6991, 131.8, -0.094, 0.103, 288.8], ro=ro, vo=vo, radec=True)\n",
    "\n",
    "# from pace data\n",
    "ant2_ = Orbit([143.8868, -36.7673, 132.0, -0.0928385269606818, 0.0999082937338185, 290.7], ro=ro, vo=vo, radec=True)"
   ]
  },
  {
   "cell_type": "markdown",
   "id": "876f55a5",
   "metadata": {},
   "source": [
    "## Without LMC"
   ]
  },
  {
   "cell_type": "code",
   "execution_count": 21,
   "id": "c0b95f78",
   "metadata": {},
   "outputs": [],
   "source": [
    "spdf_noLMC = streamspraydf(mass_ant/mo,\n",
    "                          progenitor = ant2,\n",
    "                          pot = pot,\n",
    "                          tdisrupt = tdisrupt)\n",
    "spdft_noLMC = streamspraydf(mass_ant/mo,\n",
    "                           progenitor = ant2,\n",
    "                           pot = pot,\n",
    "                           tdisrupt = tdisrupt/to,\n",
    "                           leading=False)"
   ]
  },
  {
   "cell_type": "code",
   "execution_count": 23,
   "id": "f3ed3aea",
   "metadata": {},
   "outputs": [],
   "source": [
    "RvR, dt = spdf_noLMC.sample(n=100, returndt=True, integrate=True)\n",
    "RvRt, dtt = spdft_noLMC.sample(n=100, returndt=True, integrate=True)\n",
    "\n",
    "vxvv=np.column_stack([RvR[0],RvR[1],RvR[2],RvR[3],RvR[4],RvR[5]])\n",
    "vxvvt=np.column_stack([RvRt[0],RvRt[1],RvRt[2],RvRt[3],RvRt[4],RvRt[5]])\n",
    "\n",
    "vxvva=np.column_stack([np.append(RvR[0],RvRt[0]),\n",
    "                       np.append(RvR[1],RvRt[1]),\n",
    "                       np.append(RvR[2],RvRt[2]),\n",
    "                       np.append(RvR[3],RvRt[3]),\n",
    "                       np.append(RvR[4],RvRt[4]),\n",
    "                       np.append(RvR[5],RvRt[5])])\n",
    "\n",
    "#oleading=Orbit(vxvv,ro=ro,vo=vo,solarmotion=[-11.1, 24.0, 7.25])\n",
    "#otrailing=Orbit(vxvvt,ro=ro,vo=vo,solarmotion=[-11.1, 24.0, 7.25])\n",
    "\n",
    "oall_noLMC=Orbit(vxvva,ro=ro,vo=vo,solarmotion=[-11.1, 24.0, 7.25])\n",
    "dtall=np.append(dt,dtt)"
   ]
  },
  {
   "cell_type": "code",
   "execution_count": 24,
   "id": "5e6c7838",
   "metadata": {},
   "outputs": [
    {
     "data": {
      "image/png": "[encoded data removed]",
      "text/plain": [
       "<Figure size 432x288 with 1 Axes>"
      ]
     },
     "metadata": {
      "needs_background": "light"
     },
     "output_type": "display_data"
    },
    {
     "data": {
      "image/png": "[encoded data removed]",
      "text/plain": [
       "<Figure size 432x288 with 1 Axes>"
      ]
     },
     "metadata": {
      "needs_background": "light"
     },
     "output_type": "display_data"
    }
   ],
   "source": [
    "plt.plot(oall_noLMC.ra(), oall_noLMC.dec(), 'r.')\n",
    "#plt.plot(orbst_noLMC.ra(), orbst_noLMC.dec(), 'b.')\n",
    "plt.xlim(147,141)\n",
    "plt.ylim(-39, -34.5)\n",
    "plt.show();\n",
    "\n",
    "plt.plot(oall_noLMC.pmra(), oall_noLMC.pmdec(), 'r.')\n",
    "#plt.plot(orbst_noLMC.pmra(), orbst_noLMC.pmdec(), 'b.')\n",
    "plt.show()"
   ]
  },
  {
   "cell_type": "code",
   "execution_count": null,
   "id": "0514a1a4",
   "metadata": {},
   "outputs": [],
   "source": []
  },
  {
   "cell_type": "markdown",
   "id": "cd79cea6",
   "metadata": {},
   "source": [
    "## With LMC, no acceleration"
   ]
  },
  {
   "cell_type": "code",
   "execution_count": 26,
   "id": "8f61b83e",
   "metadata": {},
   "outputs": [
    {
     "name": "stdout",
     "output_type": "stream",
     "text": [
      "/home/student04/.local/lib/python3.10/site-packages/galpy/df/jeans.py:50: RuntimeWarning: invalid value encountered in sqrt\n",
      "  return numpy.sqrt(integrate.quad(lambda x: -intFactor(x)*dens(x)\n",
      "\n",
      "galpyWarning: Cannot use symplectic integration because some of the included forces are dissipative (using non-symplectic integrator dopr54_c instead)\n"
     ]
    }
   ],
   "source": [
    "mass_lmc=1.5e11 #solar masses\n",
    "rscale_lmc=10.2 #kpc\n",
    "\n",
    "#Initialize and integrate the orbit of the LMC\n",
    "#Note orbit has to be integrated back 5 Gyr\n",
    "#Note we assume the LMC experienced dynamical friction due to MW\n",
    "o_lmc = Orbit.from_name('LMC', ro=ro, vo=vo, solarmotion=[-11.1, 24.0, 7.25])\n",
    "ts= np.linspace(0.,-tdisrupt/to,1001)\n",
    "cdf= ChandrasekharDynamicalFrictionForce(GMs=mass_lmc/mo, rhm=rscale_lmc/ro, dens=pot[0], ro=ro,vo=vo)\n",
    "o_lmc.integrate(ts,pot+cdf)\n",
    "\n",
    "#Setup a moving Hernquist potential to represent the LMC\n",
    "pot_lmc = HernquistPotential(mass_lmc/mo,rscale_lmc/ro,ro=ro,vo=vo)\n",
    "moving_pot_lmc = MovingObjectPotential(o_lmc, pot_lmc,ro=ro,vo=vo)\n",
    "\n",
    "#Add the moving Hernquest potential to the MW\n",
    "total_pot = [pot]\n",
    "total_pot += [moving_pot_lmc]"
   ]
  },
  {
   "cell_type": "code",
   "execution_count": 27,
   "id": "75462f16",
   "metadata": {},
   "outputs": [],
   "source": [
    "spdf_LMC = streamspraydf(mass_ant/mo,\n",
    "                          progenitor = ant2,\n",
    "                          pot = pot + moving_pot_lmc,\n",
    "                          tdisrupt = tdisrupt,\n",
    "                          centerpot=pot)\n",
    "spdft_LMC = streamspraydf(mass_ant/mo,\n",
    "                           progenitor = ant2,\n",
    "                           pot = pot + moving_pot_lmc,\n",
    "                           tdisrupt = tdisrupt/to,\n",
    "                           centerpot=pot,\n",
    "                           leading=False)"
   ]
  },
  {
   "cell_type": "code",
   "execution_count": 28,
   "id": "9c0ecf9a",
   "metadata": {},
   "outputs": [
    {
     "ename": "PotentialError",
     "evalue": "\"'_R2deriv' function not implemented for this potential\"",
     "output_type": "error",
     "traceback": [
      "\u001b[0;31m---------------------------------------------------------------------------\u001b[0m",
      "\u001b[0;31mAttributeError\u001b[0m                            Traceback (most recent call last)",
      "File \u001b[0;32m~/.local/lib/python3.10/site-packages/galpy/potential/Potential.py:566\u001b[0m, in \u001b[0;36mPotential.R2deriv\u001b[0;34m(self, R, z, phi, t)\u001b[0m\n\u001b[1;32m    565\u001b[0m \u001b[38;5;28;01mtry\u001b[39;00m:\n\u001b[0;32m--> 566\u001b[0m     \u001b[38;5;28;01mreturn\u001b[39;00m \u001b[38;5;28mself\u001b[39m\u001b[38;5;241m.\u001b[39m_amp\u001b[38;5;241m*\u001b[39m\u001b[38;5;28;43mself\u001b[39;49m\u001b[38;5;241;43m.\u001b[39;49m\u001b[43m_R2deriv\u001b[49m(R,z,phi\u001b[38;5;241m=\u001b[39mphi,t\u001b[38;5;241m=\u001b[39mt)\n\u001b[1;32m    567\u001b[0m \u001b[38;5;28;01mexcept\u001b[39;00m \u001b[38;5;167;01mAttributeError\u001b[39;00m: \u001b[38;5;66;03m#pragma: no cover\u001b[39;00m\n",
      "\u001b[0;31mAttributeError\u001b[0m: 'MovingObjectPotential' object has no attribute '_R2deriv'",
      "\nDuring handling of the above exception, another exception occurred:\n",
      "\u001b[0;31mPotentialError\u001b[0m                            Traceback (most recent call last)",
      "Input \u001b[0;32mIn [28]\u001b[0m, in \u001b[0;36m<module>\u001b[0;34m\u001b[0m\n\u001b[0;32m----> 1\u001b[0m RvR, dt \u001b[38;5;241m=\u001b[39m \u001b[43mspdf_LMC\u001b[49m\u001b[38;5;241;43m.\u001b[39;49m\u001b[43msample\u001b[49m\u001b[43m(\u001b[49m\u001b[43mn\u001b[49m\u001b[38;5;241;43m=\u001b[39;49m\u001b[38;5;241;43m100\u001b[39;49m\u001b[43m,\u001b[49m\u001b[43m \u001b[49m\u001b[43mreturndt\u001b[49m\u001b[38;5;241;43m=\u001b[39;49m\u001b[38;5;28;43;01mTrue\u001b[39;49;00m\u001b[43m,\u001b[49m\u001b[43m \u001b[49m\u001b[43mintegrate\u001b[49m\u001b[38;5;241;43m=\u001b[39;49m\u001b[38;5;28;43;01mTrue\u001b[39;49;00m\u001b[43m)\u001b[49m\n\u001b[1;32m      2\u001b[0m RvRt, dtt \u001b[38;5;241m=\u001b[39m spdft_LMC\u001b[38;5;241m.\u001b[39msample(n\u001b[38;5;241m=\u001b[39m\u001b[38;5;241m100\u001b[39m, returndt\u001b[38;5;241m=\u001b[39m\u001b[38;5;28;01mTrue\u001b[39;00m, integrate\u001b[38;5;241m=\u001b[39m\u001b[38;5;28;01mTrue\u001b[39;00m)\n\u001b[1;32m      4\u001b[0m vxvv\u001b[38;5;241m=\u001b[39mnp\u001b[38;5;241m.\u001b[39mcolumn_stack([RvR[\u001b[38;5;241m0\u001b[39m],RvR[\u001b[38;5;241m1\u001b[39m],RvR[\u001b[38;5;241m2\u001b[39m],RvR[\u001b[38;5;241m3\u001b[39m],RvR[\u001b[38;5;241m4\u001b[39m],RvR[\u001b[38;5;241m5\u001b[39m]])\n",
      "File \u001b[0;32m~/.local/lib/python3.10/site-packages/streamtools/df/streamspraydf.py:163\u001b[0m, in \u001b[0;36mstreamspraydf.sample\u001b[0;34m(self, n, returndt, integrate, xy, lb)\u001b[0m\n\u001b[1;32m    161\u001b[0m k\u001b[38;5;241m=\u001b[39m \u001b[38;5;28mself\u001b[39m\u001b[38;5;241m.\u001b[39m_meankvec\u001b[38;5;241m+\u001b[39mnumpy\u001b[38;5;241m.\u001b[39mrandom\u001b[38;5;241m.\u001b[39mnormal(size\u001b[38;5;241m=\u001b[39mn)[:,numpy\u001b[38;5;241m.\u001b[39mnewaxis]\u001b[38;5;241m*\u001b[39m\u001b[38;5;28mself\u001b[39m\u001b[38;5;241m.\u001b[39m_sigkvec\n\u001b[1;32m    162\u001b[0m \u001b[38;5;28;01mtry\u001b[39;00m:\n\u001b[0;32m--> 163\u001b[0m     rtides\u001b[38;5;241m=\u001b[39m \u001b[43mrtide\u001b[49m\u001b[43m(\u001b[49m\u001b[38;5;28;43mself\u001b[39;49m\u001b[38;5;241;43m.\u001b[39;49m\u001b[43m_rtpot\u001b[49m\u001b[43m,\u001b[49m\u001b[43mRpt\u001b[49m\u001b[43m,\u001b[49m\u001b[43mZpt\u001b[49m\u001b[43m,\u001b[49m\u001b[43mphi\u001b[49m\u001b[38;5;241;43m=\u001b[39;49m\u001b[43mphipt\u001b[49m\u001b[43m,\u001b[49m\n\u001b[1;32m    164\u001b[0m \u001b[43m                  \u001b[49m\u001b[43mt\u001b[49m\u001b[38;5;241;43m=\u001b[39;49m\u001b[38;5;241;43m-\u001b[39;49m\u001b[43mdt\u001b[49m\u001b[43m,\u001b[49m\u001b[43mM\u001b[49m\u001b[38;5;241;43m=\u001b[39;49m\u001b[38;5;28;43mself\u001b[39;49m\u001b[38;5;241;43m.\u001b[39;49m\u001b[43m_progenitor_mass\u001b[49m\u001b[43m,\u001b[49m\u001b[43muse_physical\u001b[49m\u001b[38;5;241;43m=\u001b[39;49m\u001b[38;5;28;43;01mFalse\u001b[39;49;00m\u001b[43m)\u001b[49m\n\u001b[1;32m    165\u001b[0m     vcs\u001b[38;5;241m=\u001b[39m numpy\u001b[38;5;241m.\u001b[39msqrt(\u001b[38;5;241m-\u001b[39mRpt\n\u001b[1;32m    166\u001b[0m                     \u001b[38;5;241m*\u001b[39mevaluateRforces(\u001b[38;5;28mself\u001b[39m\u001b[38;5;241m.\u001b[39m_rtpot,Rpt,Zpt,phi\u001b[38;5;241m=\u001b[39mphipt,t\u001b[38;5;241m=\u001b[39m\u001b[38;5;241m-\u001b[39mdt,\n\u001b[1;32m    167\u001b[0m                                      use_physical\u001b[38;5;241m=\u001b[39m\u001b[38;5;28;01mFalse\u001b[39;00m))\n\u001b[1;32m    168\u001b[0m \u001b[38;5;28;01mexcept\u001b[39;00m (\u001b[38;5;167;01mValueError\u001b[39;00m,\u001b[38;5;167;01mTypeError\u001b[39;00m):\n",
      "File \u001b[0;32m~/.local/lib/python3.10/site-packages/galpy/util/conversion.py:910\u001b[0m, in \u001b[0;36mpotential_physical_input.<locals>.wrapper\u001b[0;34m(*args, **kwargs)\u001b[0m\n\u001b[1;32m    907\u001b[0m \u001b[38;5;28;01mif\u001b[39;00m \u001b[38;5;124m'\u001b[39m\u001b[38;5;124mzmax\u001b[39m\u001b[38;5;124m'\u001b[39m \u001b[38;5;129;01min\u001b[39;00m kwargs \u001b[38;5;129;01mand\u001b[39;00m _APY_LOADED \\\n\u001b[1;32m    908\u001b[0m         \u001b[38;5;129;01mand\u001b[39;00m \u001b[38;5;28misinstance\u001b[39m(kwargs[\u001b[38;5;124m'\u001b[39m\u001b[38;5;124mzmax\u001b[39m\u001b[38;5;124m'\u001b[39m],units\u001b[38;5;241m.\u001b[39mQuantity):\n\u001b[1;32m    909\u001b[0m     kwargs[\u001b[38;5;124m'\u001b[39m\u001b[38;5;124mzmax\u001b[39m\u001b[38;5;124m'\u001b[39m]\u001b[38;5;241m=\u001b[39m kwargs[\u001b[38;5;124m'\u001b[39m\u001b[38;5;124mzmax\u001b[39m\u001b[38;5;124m'\u001b[39m]\u001b[38;5;241m.\u001b[39mto(units\u001b[38;5;241m.\u001b[39mkpc)\u001b[38;5;241m.\u001b[39mvalue\u001b[38;5;241m/\u001b[39mro\n\u001b[0;32m--> 910\u001b[0m \u001b[38;5;28;01mreturn\u001b[39;00m \u001b[43mmethod\u001b[49m\u001b[43m(\u001b[49m\u001b[38;5;241;43m*\u001b[39;49m\u001b[43margs\u001b[49m\u001b[43m,\u001b[49m\u001b[38;5;241;43m*\u001b[39;49m\u001b[38;5;241;43m*\u001b[39;49m\u001b[43mkwargs\u001b[49m\u001b[43m)\u001b[49m\n",
      "File \u001b[0;32m~/.local/lib/python3.10/site-packages/galpy/util/conversion.py:832\u001b[0m, in \u001b[0;36mphysical_conversion.<locals>.wrapper.<locals>.wrapped\u001b[0;34m(*args, **kwargs)\u001b[0m\n\u001b[1;32m    830\u001b[0m         \u001b[38;5;28;01mreturn\u001b[39;00m out\u001b[38;5;241m*\u001b[39mfac\n\u001b[1;32m    831\u001b[0m \u001b[38;5;28;01melse\u001b[39;00m:\n\u001b[0;32m--> 832\u001b[0m     \u001b[38;5;28;01mreturn\u001b[39;00m \u001b[43mmethod\u001b[49m\u001b[43m(\u001b[49m\u001b[38;5;241;43m*\u001b[39;49m\u001b[43margs\u001b[49m\u001b[43m,\u001b[49m\u001b[38;5;241;43m*\u001b[39;49m\u001b[38;5;241;43m*\u001b[39;49m\u001b[43mkwargs\u001b[49m\u001b[43m)\u001b[49m\n",
      "File \u001b[0;32m~/.local/lib/python3.10/site-packages/galpy/potential/Potential.py:3796\u001b[0m, in \u001b[0;36mrtide\u001b[0;34m(Pot, R, z, phi, t, M)\u001b[0m\n\u001b[1;32m   3794\u001b[0m r\u001b[38;5;241m=\u001b[39m numpy\u001b[38;5;241m.\u001b[39msqrt(R\u001b[38;5;241m*\u001b[39m\u001b[38;5;241m*\u001b[39m\u001b[38;5;241m2.\u001b[39m\u001b[38;5;241m+\u001b[39mz\u001b[38;5;241m*\u001b[39m\u001b[38;5;241m*\u001b[39m\u001b[38;5;241m2.\u001b[39m)\n\u001b[1;32m   3795\u001b[0m omegac2\u001b[38;5;241m=\u001b[39m\u001b[38;5;241m-\u001b[39mevaluaterforces(Pot,R,z,phi\u001b[38;5;241m=\u001b[39mphi,t\u001b[38;5;241m=\u001b[39mt,use_physical\u001b[38;5;241m=\u001b[39m\u001b[38;5;28;01mFalse\u001b[39;00m)\u001b[38;5;241m/\u001b[39mr\n\u001b[0;32m-> 3796\u001b[0m d2phidr2\u001b[38;5;241m=\u001b[39m \u001b[43mevaluater2derivs\u001b[49m\u001b[43m(\u001b[49m\u001b[43mPot\u001b[49m\u001b[43m,\u001b[49m\u001b[43mR\u001b[49m\u001b[43m,\u001b[49m\u001b[43mz\u001b[49m\u001b[43m,\u001b[49m\u001b[43mphi\u001b[49m\u001b[38;5;241;43m=\u001b[39;49m\u001b[43mphi\u001b[49m\u001b[43m,\u001b[49m\u001b[43mt\u001b[49m\u001b[38;5;241;43m=\u001b[39;49m\u001b[43mt\u001b[49m\u001b[43m,\u001b[49m\u001b[43muse_physical\u001b[49m\u001b[38;5;241;43m=\u001b[39;49m\u001b[38;5;28;43;01mFalse\u001b[39;49;00m\u001b[43m)\u001b[49m\n\u001b[1;32m   3797\u001b[0m \u001b[38;5;28;01mreturn\u001b[39;00m (M\u001b[38;5;241m/\u001b[39m(omegac2\u001b[38;5;241m-\u001b[39md2phidr2))\u001b[38;5;241m*\u001b[39m\u001b[38;5;241m*\u001b[39m(\u001b[38;5;241m1.\u001b[39m\u001b[38;5;241m/\u001b[39m\u001b[38;5;241m3.\u001b[39m)\n",
      "File \u001b[0;32m~/.local/lib/python3.10/site-packages/galpy/util/conversion.py:910\u001b[0m, in \u001b[0;36mpotential_physical_input.<locals>.wrapper\u001b[0;34m(*args, **kwargs)\u001b[0m\n\u001b[1;32m    907\u001b[0m \u001b[38;5;28;01mif\u001b[39;00m \u001b[38;5;124m'\u001b[39m\u001b[38;5;124mzmax\u001b[39m\u001b[38;5;124m'\u001b[39m \u001b[38;5;129;01min\u001b[39;00m kwargs \u001b[38;5;129;01mand\u001b[39;00m _APY_LOADED \\\n\u001b[1;32m    908\u001b[0m         \u001b[38;5;129;01mand\u001b[39;00m \u001b[38;5;28misinstance\u001b[39m(kwargs[\u001b[38;5;124m'\u001b[39m\u001b[38;5;124mzmax\u001b[39m\u001b[38;5;124m'\u001b[39m],units\u001b[38;5;241m.\u001b[39mQuantity):\n\u001b[1;32m    909\u001b[0m     kwargs[\u001b[38;5;124m'\u001b[39m\u001b[38;5;124mzmax\u001b[39m\u001b[38;5;124m'\u001b[39m]\u001b[38;5;241m=\u001b[39m kwargs[\u001b[38;5;124m'\u001b[39m\u001b[38;5;124mzmax\u001b[39m\u001b[38;5;124m'\u001b[39m]\u001b[38;5;241m.\u001b[39mto(units\u001b[38;5;241m.\u001b[39mkpc)\u001b[38;5;241m.\u001b[39mvalue\u001b[38;5;241m/\u001b[39mro\n\u001b[0;32m--> 910\u001b[0m \u001b[38;5;28;01mreturn\u001b[39;00m \u001b[43mmethod\u001b[49m\u001b[43m(\u001b[49m\u001b[38;5;241;43m*\u001b[39;49m\u001b[43margs\u001b[49m\u001b[43m,\u001b[49m\u001b[38;5;241;43m*\u001b[39;49m\u001b[38;5;241;43m*\u001b[39;49m\u001b[43mkwargs\u001b[49m\u001b[43m)\u001b[49m\n",
      "File \u001b[0;32m~/.local/lib/python3.10/site-packages/galpy/util/conversion.py:832\u001b[0m, in \u001b[0;36mphysical_conversion.<locals>.wrapper.<locals>.wrapped\u001b[0;34m(*args, **kwargs)\u001b[0m\n\u001b[1;32m    830\u001b[0m         \u001b[38;5;28;01mreturn\u001b[39;00m out\u001b[38;5;241m*\u001b[39mfac\n\u001b[1;32m    831\u001b[0m \u001b[38;5;28;01melse\u001b[39;00m:\n\u001b[0;32m--> 832\u001b[0m     \u001b[38;5;28;01mreturn\u001b[39;00m \u001b[43mmethod\u001b[49m\u001b[43m(\u001b[49m\u001b[38;5;241;43m*\u001b[39;49m\u001b[43margs\u001b[49m\u001b[43m,\u001b[49m\u001b[38;5;241;43m*\u001b[39;49m\u001b[38;5;241;43m*\u001b[39;49m\u001b[43mkwargs\u001b[49m\u001b[43m)\u001b[49m\n",
      "File \u001b[0;32m~/.local/lib/python3.10/site-packages/galpy/potential/Potential.py:2663\u001b[0m, in \u001b[0;36mevaluater2derivs\u001b[0;34m(Pot, R, z, phi, t)\u001b[0m\n\u001b[1;32m   2661\u001b[0m     \u001b[38;5;28;01mfor\u001b[39;00m pot \u001b[38;5;129;01min\u001b[39;00m Pot:\n\u001b[1;32m   2662\u001b[0m         \u001b[38;5;28;01mif\u001b[39;00m \u001b[38;5;129;01mnot\u001b[39;00m \u001b[38;5;28misinstance\u001b[39m(pot,DissipativeForce):\n\u001b[0;32m-> 2663\u001b[0m             out\u001b[38;5;241m+\u001b[39m\u001b[38;5;241m=\u001b[39m \u001b[43mpot\u001b[49m\u001b[38;5;241;43m.\u001b[39;49m\u001b[43mr2deriv\u001b[49m\u001b[43m(\u001b[49m\u001b[43mR\u001b[49m\u001b[43m,\u001b[49m\u001b[43mz\u001b[49m\u001b[43m,\u001b[49m\u001b[43mphi\u001b[49m\u001b[38;5;241;43m=\u001b[39;49m\u001b[43mphi\u001b[49m\u001b[43m,\u001b[49m\u001b[43mt\u001b[49m\u001b[38;5;241;43m=\u001b[39;49m\u001b[43mt\u001b[49m\u001b[43m,\u001b[49m\u001b[43muse_physical\u001b[49m\u001b[38;5;241;43m=\u001b[39;49m\u001b[38;5;28;43;01mFalse\u001b[39;49;00m\u001b[43m)\u001b[49m\n\u001b[1;32m   2664\u001b[0m     \u001b[38;5;28;01mreturn\u001b[39;00m out\n\u001b[1;32m   2665\u001b[0m \u001b[38;5;28;01melif\u001b[39;00m \u001b[38;5;28misinstance\u001b[39m(Pot,Potential):\n",
      "File \u001b[0;32m~/.local/lib/python3.10/site-packages/galpy/util/conversion.py:910\u001b[0m, in \u001b[0;36mpotential_physical_input.<locals>.wrapper\u001b[0;34m(*args, **kwargs)\u001b[0m\n\u001b[1;32m    907\u001b[0m \u001b[38;5;28;01mif\u001b[39;00m \u001b[38;5;124m'\u001b[39m\u001b[38;5;124mzmax\u001b[39m\u001b[38;5;124m'\u001b[39m \u001b[38;5;129;01min\u001b[39;00m kwargs \u001b[38;5;129;01mand\u001b[39;00m _APY_LOADED \\\n\u001b[1;32m    908\u001b[0m         \u001b[38;5;129;01mand\u001b[39;00m \u001b[38;5;28misinstance\u001b[39m(kwargs[\u001b[38;5;124m'\u001b[39m\u001b[38;5;124mzmax\u001b[39m\u001b[38;5;124m'\u001b[39m],units\u001b[38;5;241m.\u001b[39mQuantity):\n\u001b[1;32m    909\u001b[0m     kwargs[\u001b[38;5;124m'\u001b[39m\u001b[38;5;124mzmax\u001b[39m\u001b[38;5;124m'\u001b[39m]\u001b[38;5;241m=\u001b[39m kwargs[\u001b[38;5;124m'\u001b[39m\u001b[38;5;124mzmax\u001b[39m\u001b[38;5;124m'\u001b[39m]\u001b[38;5;241m.\u001b[39mto(units\u001b[38;5;241m.\u001b[39mkpc)\u001b[38;5;241m.\u001b[39mvalue\u001b[38;5;241m/\u001b[39mro\n\u001b[0;32m--> 910\u001b[0m \u001b[38;5;28;01mreturn\u001b[39;00m \u001b[43mmethod\u001b[49m\u001b[43m(\u001b[49m\u001b[38;5;241;43m*\u001b[39;49m\u001b[43margs\u001b[49m\u001b[43m,\u001b[49m\u001b[38;5;241;43m*\u001b[39;49m\u001b[38;5;241;43m*\u001b[39;49m\u001b[43mkwargs\u001b[49m\u001b[43m)\u001b[49m\n",
      "File \u001b[0;32m~/.local/lib/python3.10/site-packages/galpy/util/conversion.py:832\u001b[0m, in \u001b[0;36mphysical_conversion.<locals>.wrapper.<locals>.wrapped\u001b[0;34m(*args, **kwargs)\u001b[0m\n\u001b[1;32m    830\u001b[0m         \u001b[38;5;28;01mreturn\u001b[39;00m out\u001b[38;5;241m*\u001b[39mfac\n\u001b[1;32m    831\u001b[0m \u001b[38;5;28;01melse\u001b[39;00m:\n\u001b[0;32m--> 832\u001b[0m     \u001b[38;5;28;01mreturn\u001b[39;00m \u001b[43mmethod\u001b[49m\u001b[43m(\u001b[49m\u001b[38;5;241;43m*\u001b[39;49m\u001b[43margs\u001b[49m\u001b[43m,\u001b[49m\u001b[38;5;241;43m*\u001b[39;49m\u001b[38;5;241;43m*\u001b[39;49m\u001b[43mkwargs\u001b[49m\u001b[43m)\u001b[49m\n",
      "File \u001b[0;32m~/.local/lib/python3.10/site-packages/galpy/potential/Potential.py:246\u001b[0m, in \u001b[0;36mPotential.r2deriv\u001b[0;34m(self, R, z, phi, t)\u001b[0m\n\u001b[1;32m    216\u001b[0m \u001b[38;5;124;03m\"\"\"\u001b[39;00m\n\u001b[1;32m    217\u001b[0m \u001b[38;5;124;03mNAME:\u001b[39;00m\n\u001b[1;32m    218\u001b[0m \n\u001b[0;32m   (...)\u001b[0m\n\u001b[1;32m    242\u001b[0m \n\u001b[1;32m    243\u001b[0m \u001b[38;5;124;03m\"\"\"\u001b[39;00m\n\u001b[1;32m    245\u001b[0m r\u001b[38;5;241m=\u001b[39m numpy\u001b[38;5;241m.\u001b[39msqrt(R\u001b[38;5;241m*\u001b[39m\u001b[38;5;241m*\u001b[39m\u001b[38;5;241m2.\u001b[39m\u001b[38;5;241m+\u001b[39mz\u001b[38;5;241m*\u001b[39m\u001b[38;5;241m*\u001b[39m\u001b[38;5;241m2.\u001b[39m)       \n\u001b[0;32m--> 246\u001b[0m \u001b[38;5;28;01mreturn\u001b[39;00m (\u001b[38;5;28;43mself\u001b[39;49m\u001b[38;5;241;43m.\u001b[39;49m\u001b[43mR2deriv\u001b[49m\u001b[43m(\u001b[49m\u001b[43mR\u001b[49m\u001b[43m,\u001b[49m\u001b[43mz\u001b[49m\u001b[43m,\u001b[49m\u001b[43mphi\u001b[49m\u001b[38;5;241;43m=\u001b[39;49m\u001b[43mphi\u001b[49m\u001b[43m,\u001b[49m\u001b[43mt\u001b[49m\u001b[38;5;241;43m=\u001b[39;49m\u001b[43mt\u001b[49m\u001b[43m,\u001b[49m\u001b[43muse_physical\u001b[49m\u001b[38;5;241;43m=\u001b[39;49m\u001b[38;5;28;43;01mFalse\u001b[39;49;00m\u001b[43m)\u001b[49m\u001b[38;5;241m*\u001b[39mR\u001b[38;5;241m/\u001b[39mr\\\n\u001b[1;32m    247\u001b[0m     \u001b[38;5;241m+\u001b[39m\u001b[38;5;28mself\u001b[39m\u001b[38;5;241m.\u001b[39mRzderiv(R,z,phi\u001b[38;5;241m=\u001b[39mphi,t\u001b[38;5;241m=\u001b[39mt,use_physical\u001b[38;5;241m=\u001b[39m\u001b[38;5;28;01mFalse\u001b[39;00m)\u001b[38;5;241m*\u001b[39mz\u001b[38;5;241m/\u001b[39mr)\u001b[38;5;241m*\u001b[39mR\u001b[38;5;241m/\u001b[39mr\\\n\u001b[1;32m    248\u001b[0m     \u001b[38;5;241m+\u001b[39m(\u001b[38;5;28mself\u001b[39m\u001b[38;5;241m.\u001b[39mRzderiv(R,z,phi\u001b[38;5;241m=\u001b[39mphi,t\u001b[38;5;241m=\u001b[39mt,use_physical\u001b[38;5;241m=\u001b[39m\u001b[38;5;28;01mFalse\u001b[39;00m)\u001b[38;5;241m*\u001b[39mR\u001b[38;5;241m/\u001b[39mr\\\n\u001b[1;32m    249\u001b[0m     \u001b[38;5;241m+\u001b[39m\u001b[38;5;28mself\u001b[39m\u001b[38;5;241m.\u001b[39mz2deriv(R,z,phi\u001b[38;5;241m=\u001b[39mphi,t\u001b[38;5;241m=\u001b[39mt,use_physical\u001b[38;5;241m=\u001b[39m\u001b[38;5;28;01mFalse\u001b[39;00m)\u001b[38;5;241m*\u001b[39mz\u001b[38;5;241m/\u001b[39mr)\u001b[38;5;241m*\u001b[39mz\u001b[38;5;241m/\u001b[39mr\n",
      "File \u001b[0;32m~/.local/lib/python3.10/site-packages/galpy/util/conversion.py:910\u001b[0m, in \u001b[0;36mpotential_physical_input.<locals>.wrapper\u001b[0;34m(*args, **kwargs)\u001b[0m\n\u001b[1;32m    907\u001b[0m \u001b[38;5;28;01mif\u001b[39;00m \u001b[38;5;124m'\u001b[39m\u001b[38;5;124mzmax\u001b[39m\u001b[38;5;124m'\u001b[39m \u001b[38;5;129;01min\u001b[39;00m kwargs \u001b[38;5;129;01mand\u001b[39;00m _APY_LOADED \\\n\u001b[1;32m    908\u001b[0m         \u001b[38;5;129;01mand\u001b[39;00m \u001b[38;5;28misinstance\u001b[39m(kwargs[\u001b[38;5;124m'\u001b[39m\u001b[38;5;124mzmax\u001b[39m\u001b[38;5;124m'\u001b[39m],units\u001b[38;5;241m.\u001b[39mQuantity):\n\u001b[1;32m    909\u001b[0m     kwargs[\u001b[38;5;124m'\u001b[39m\u001b[38;5;124mzmax\u001b[39m\u001b[38;5;124m'\u001b[39m]\u001b[38;5;241m=\u001b[39m kwargs[\u001b[38;5;124m'\u001b[39m\u001b[38;5;124mzmax\u001b[39m\u001b[38;5;124m'\u001b[39m]\u001b[38;5;241m.\u001b[39mto(units\u001b[38;5;241m.\u001b[39mkpc)\u001b[38;5;241m.\u001b[39mvalue\u001b[38;5;241m/\u001b[39mro\n\u001b[0;32m--> 910\u001b[0m \u001b[38;5;28;01mreturn\u001b[39;00m \u001b[43mmethod\u001b[49m\u001b[43m(\u001b[49m\u001b[38;5;241;43m*\u001b[39;49m\u001b[43margs\u001b[49m\u001b[43m,\u001b[49m\u001b[38;5;241;43m*\u001b[39;49m\u001b[38;5;241;43m*\u001b[39;49m\u001b[43mkwargs\u001b[49m\u001b[43m)\u001b[49m\n",
      "File \u001b[0;32m~/.local/lib/python3.10/site-packages/galpy/util/conversion.py:832\u001b[0m, in \u001b[0;36mphysical_conversion.<locals>.wrapper.<locals>.wrapped\u001b[0;34m(*args, **kwargs)\u001b[0m\n\u001b[1;32m    830\u001b[0m         \u001b[38;5;28;01mreturn\u001b[39;00m out\u001b[38;5;241m*\u001b[39mfac\n\u001b[1;32m    831\u001b[0m \u001b[38;5;28;01melse\u001b[39;00m:\n\u001b[0;32m--> 832\u001b[0m     \u001b[38;5;28;01mreturn\u001b[39;00m \u001b[43mmethod\u001b[49m\u001b[43m(\u001b[49m\u001b[38;5;241;43m*\u001b[39;49m\u001b[43margs\u001b[49m\u001b[43m,\u001b[49m\u001b[38;5;241;43m*\u001b[39;49m\u001b[38;5;241;43m*\u001b[39;49m\u001b[43mkwargs\u001b[49m\u001b[43m)\u001b[49m\n",
      "File \u001b[0;32m~/.local/lib/python3.10/site-packages/galpy/potential/Potential.py:568\u001b[0m, in \u001b[0;36mPotential.R2deriv\u001b[0;34m(self, R, z, phi, t)\u001b[0m\n\u001b[1;32m    566\u001b[0m     \u001b[38;5;28;01mreturn\u001b[39;00m \u001b[38;5;28mself\u001b[39m\u001b[38;5;241m.\u001b[39m_amp\u001b[38;5;241m*\u001b[39m\u001b[38;5;28mself\u001b[39m\u001b[38;5;241m.\u001b[39m_R2deriv(R,z,phi\u001b[38;5;241m=\u001b[39mphi,t\u001b[38;5;241m=\u001b[39mt)\n\u001b[1;32m    567\u001b[0m \u001b[38;5;28;01mexcept\u001b[39;00m \u001b[38;5;167;01mAttributeError\u001b[39;00m: \u001b[38;5;66;03m#pragma: no cover\u001b[39;00m\n\u001b[0;32m--> 568\u001b[0m     \u001b[38;5;28;01mraise\u001b[39;00m PotentialError(\u001b[38;5;124m\"\u001b[39m\u001b[38;5;124m'\u001b[39m\u001b[38;5;124m_R2deriv\u001b[39m\u001b[38;5;124m'\u001b[39m\u001b[38;5;124m function not implemented for this potential\u001b[39m\u001b[38;5;124m\"\u001b[39m)\n",
      "\u001b[0;31mPotentialError\u001b[0m: \"'_R2deriv' function not implemented for this potential\""
     ]
    }
   ],
   "source": [
    "RvR, dt = spdf_LMC.sample(n=100, returndt=True, integrate=True)\n",
    "RvRt, dtt = spdft_LMC.sample(n=100, returndt=True, integrate=True)\n",
    "\n",
    "vxvv=np.column_stack([RvR[0],RvR[1],RvR[2],RvR[3],RvR[4],RvR[5]])\n",
    "vxvvt=np.column_stack([RvRt[0],RvRt[1],RvRt[2],RvRt[3],RvRt[4],RvRt[5]])\n",
    "\n",
    "vxvva=np.column_stack([np.append(RvR[0],RvRt[0]),\n",
    "                       np.append(RvR[1],RvRt[1]),\n",
    "                       np.append(RvR[2],RvRt[2]),\n",
    "                       np.append(RvR[3],RvRt[3]),\n",
    "                       np.append(RvR[4],RvRt[4]),\n",
    "                       np.append(RvR[5],RvRt[5])])\n",
    "\n",
    "#oleading=Orbit(vxvv,ro=ro,vo=vo,solarmotion=[-11.1, 24.0, 7.25])\n",
    "#otrailing=Orbit(vxvvt,ro=ro,vo=vo,solarmotion=[-11.1, 24.0, 7.25])\n",
    "\n",
    "oall_LMC=Orbit(vxvva,ro=ro,vo=vo,solarmotion=[-11.1, 24.0, 7.25])\n",
    "dtall_LMC=np.append(dt,dtt)"
   ]
  },
  {
   "cell_type": "code",
   "execution_count": null,
   "id": "edc91d47",
   "metadata": {},
   "outputs": [],
   "source": [
    "plt.plot(oall_LMC.ra(), oall_LMC.dec(), 'r.')\n",
    "#plt.plot(orbst_LMC.ra(), orbst_LMC.dec(), 'b.')\n",
    "plt.xlim(147,141)\n",
    "plt.ylim(-39, -34.5)\n",
    "plt.show();\n",
    "\n",
    "plt.plot(orbs_LMC.pmra(), orbs_LMC.pmdec(), 'r.')\n",
    "#plt.plot(orbst_LMC.pmra(), orbst_LMC.pmdec(), 'b.')\n",
    "plt.show()"
   ]
  },
  {
   "cell_type": "markdown",
   "id": "cae13de0",
   "metadata": {},
   "source": [
    "## With LMC & acceleration"
   ]
  },
  {
   "cell_type": "code",
   "execution_count": null,
   "id": "b493b84d",
   "metadata": {},
   "outputs": [],
   "source": [
    "from galpy.potential import (evaluateRforces, evaluatephitorques,\n",
    "                                 evaluatezforces)\n",
    "loc_origin= 1e-4 # Small offset in R to avoid numerical issues\n",
    "ax= lambda t: evaluateRforces(moving_pot_lmc,loc_origin,0.,phi=0.,t=t,\n",
    "                                use_physical=False)\n",
    "ay= lambda t: evaluatephitorques(moving_pot_lmc,loc_origin,0.,phi=0.,t=t,\n",
    "                                use_physical=False)/loc_origin\n",
    "az= lambda t: evaluatezforces(moving_pot_lmc,loc_origin,0.,phi=0.,t=t,\n",
    "                                use_physical=False)\n",
    "\n",
    "t_intunits= o_lmc.time(use_physical=False)[::-1] # need to reverse the order for interp\n",
    "ax4int= np.array([ax(t) for t in t_intunits])\n",
    "ax_int= lambda t: np.interp(t,t_intunits,ax4int)\n",
    "ay4int= np.array([ay(t) for t in t_intunits])\n",
    "ay_int= lambda t: np.interp(t,t_intunits,ay4int)\n",
    "az4int= np.array([az(t) for t in t_intunits])\n",
    "az_int= lambda t: np.interp(t,t_intunits,az4int)\n",
    "\n",
    "from galpy.potential import NonInertialFrameForce\n",
    "nip= NonInertialFrameForce(a0=[ax_int,ay_int,az_int])"
   ]
  },
  {
   "cell_type": "code",
   "execution_count": null,
   "id": "20437d41",
   "metadata": {},
   "outputs": [],
   "source": [
    "spdf_LMC_a = streamspraydf(mass_ant/mo,\n",
    "                          progenitor = ant2,\n",
    "                          pot = pot + moving_pot_LMC + nip,\n",
    "                          tdisrupt = tdisrupt,\n",
    "                          centerpot=pot)\n",
    "spdft_LMC_a = streamspraydf(mass_ant/mo,\n",
    "                           progenitor = ant2,\n",
    "                           pot = pot + moving_pot_LMC + nip,\n",
    "                           tdisrupt = tdisrupt/to,\n",
    "                           centerpot=pot,\n",
    "                           leading=False)"
   ]
  },
  {
   "cell_type": "code",
   "execution_count": null,
   "id": "63f5e17c",
   "metadata": {},
   "outputs": [],
   "source": [
    "RvR, dt = spdf_LMC_a.sample(n=100, returndt=True, integrate=True)\n",
    "RvRt, dtt = spdft_LMC_a.sample(n=100, returndt=True, integrate=True)\n",
    "\n",
    "vxvv=np.column_stack([RvR[0],RvR[1],RvR[2],RvR[3],RvR[4],RvR[5]])\n",
    "vxvvt=np.column_stack([RvRt[0],RvRt[1],RvRt[2],RvRt[3],RvRt[4],RvRt[5]])\n",
    "\n",
    "vxvva=np.column_stack([np.append(RvR[0],RvRt[0]),\n",
    "                       np.append(RvR[1],RvRt[1]),\n",
    "                       np.append(RvR[2],RvRt[2]),\n",
    "                       np.append(RvR[3],RvRt[3]),\n",
    "                       np.append(RvR[4],RvRt[4]),\n",
    "                       np.append(RvR[5],RvRt[5])])\n",
    "\n",
    "#oleading=Orbit(vxvv,ro=ro,vo=vo,solarmotion=[-11.1, 24.0, 7.25])\n",
    "#otrailing=Orbit(vxvvt,ro=ro,vo=vo,solarmotion=[-11.1, 24.0, 7.25])\n",
    "\n",
    "oall_LMC_a=Orbit(vxvva,ro=ro,vo=vo,solarmotion=[-11.1, 24.0, 7.25])\n",
    "dtall_LMC_a=np.append(dt,dtt)"
   ]
  },
  {
   "cell_type": "code",
   "execution_count": null,
   "id": "4cdf9dde",
   "metadata": {},
   "outputs": [],
   "source": [
    "plt.plot(oall_LMC_a.ra(), oall_LMC_a.dec(), 'r.')\n",
    "#plt.plot(orbst_LMC_a.ra(), orbst_LMC_a.dec(), 'b.')\n",
    "plt.xlim(147,141)\n",
    "plt.ylim(-39, -34.5)\n",
    "plt.show();\n",
    "\n",
    "plt.plot(orbs_LMC_a.pmra(), orbs_LMC_a.pmdec(), 'r.')\n",
    "#plt.plot(orbst_LMC_a.pmra(), orbst_LMC_a.pmdec(), 'b.')\n",
    "plt.show()"
   ]
  },
  {
   "cell_type": "code",
   "execution_count": null,
   "id": "2e2fd7ad",
   "metadata": {},
   "outputs": [],
   "source": []
  }
 ],
 "metadata": {
  "kernelspec": {
   "display_name": "Python 3 (ipykernel)",
   "language": "python",
   "name": "python3"
  },
  "language_info": {
   "codemirror_mode": {
    "name": "ipython",
    "version": 3
   },
   "file_extension": ".py",
   "mimetype": "text/x-python",
   "name": "python",
   "nbconvert_exporter": "python",
   "pygments_lexer": "ipython3",
   "version": "3.10.2"
  }
 },
 "nbformat": 4,
 "nbformat_minor": 5
}
