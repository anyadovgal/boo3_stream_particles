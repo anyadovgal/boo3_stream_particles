{
 "cells": [
  {
   "cell_type": "code",
   "execution_count": 10,
   "id": "539a400b",
   "metadata": {},
   "outputs": [
    {
     "data": {
      "text/plain": [
       "<galpy.orbit.Orbits.Orbit at 0x7f48fb3a2500>"
      ]
     },
     "execution_count": 10,
     "metadata": {},
     "output_type": "execute_result"
    }
   ],
   "source": [
    "from galpy.orbit import Orbit\n",
    "Orbit.from_name('MW satellite galaxies')"
   ]
  },
  {
   "cell_type": "code",
   "execution_count": 11,
   "id": "7b3c792a",
   "metadata": {},
   "outputs": [],
   "source": [
    "o = Orbit.from_name(\"AquariusII\")"
   ]
  },
  {
   "cell_type": "code",
   "execution_count": 12,
   "id": "bf6520fc",
   "metadata": {},
   "outputs": [
    {
     "name": "stdout",
     "output_type": "stream",
     "text": [
      "0.010999999999999788\n"
     ]
    }
   ],
   "source": [
    "print(o.pmdec())"
   ]
  }
 ],
 "metadata": {
  "kernelspec": {
   "display_name": "Python 3 (ipykernel)",
   "language": "python",
   "name": "python3"
  },
  "language_info": {
   "codemirror_mode": {
    "name": "ipython",
    "version": 3
   },
   "file_extension": ".py",
   "mimetype": "text/x-python",
   "name": "python",
   "nbconvert_exporter": "python",
   "pygments_lexer": "ipython3",
   "version": "3.10.2"
  }
 },
 "nbformat": 4,
 "nbformat_minor": 5
}
