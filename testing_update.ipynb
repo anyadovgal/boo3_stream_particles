{
 "cells": [
  {
   "cell_type": "code",
   "execution_count": 1,
   "id": "539a400b",
   "metadata": {},
   "outputs": [],
   "source": [
    "from galpy.orbit import Orbit"
   ]
  },
  {
   "cell_type": "code",
   "execution_count": 2,
   "id": "868f9e06",
   "metadata": {},
   "outputs": [],
   "source": [
    "o = Orbit.from_name('MWglobularclusters')"
   ]
  },
  {
   "cell_type": "code",
   "execution_count": 3,
   "id": "bbbfd8bf",
   "metadata": {},
   "outputs": [],
   "source": [
    "o1 = Orbit.from_name('E1')\n",
    "o2 = Orbit.from_name('AM1')"
   ]
  },
  {
   "cell_type": "code",
   "execution_count": 4,
   "id": "68ca194e",
   "metadata": {},
   "outputs": [
    {
     "name": "stdout",
     "output_type": "stream",
     "text": [
      "118.00000000000001 118.00000000000001\n"
     ]
    }
   ],
   "source": [
    "print(o1.vlos(), o2.vlos())"
   ]
  },
  {
   "cell_type": "code",
   "execution_count": 4,
   "id": "39fdc94d",
   "metadata": {},
   "outputs": [],
   "source": [
    "ra = o.ra()\n",
    "dec = o.dec()"
   ]
  },
  {
   "cell_type": "code",
   "execution_count": 8,
   "id": "0f665b4f",
   "metadata": {},
   "outputs": [],
   "source": [
    "from astropy.coordinates import match_coordinates_sky, SkyCoord\n",
    "import astropy.units as u"
   ]
  },
  {
   "cell_type": "code",
   "execution_count": 17,
   "id": "38253fe6",
   "metadata": {},
   "outputs": [],
   "source": [
    "c1 = SkyCoord(ra=ra*u.degree, dec=dec*u.degree)\n",
    "c2 = SkyCoord(ra=ra*u.degree, dec=dec*u.degree)"
   ]
  },
  {
   "cell_type": "code",
   "execution_count": 27,
   "id": "01df470e",
   "metadata": {},
   "outputs": [],
   "source": [
    "idx, sep3d, dist3d = match_coordinates_sky(c1,c2, nthneighbor=2)\n",
    "#c1.match_to_catalog_sky(c2, nthneighbor=2)"
   ]
  },
  {
   "cell_type": "code",
   "execution_count": 31,
   "id": "eb98e93b",
   "metadata": {},
   "outputs": [
    {
     "data": {
      "text/plain": [
       "array([5.03578143e+00, 2.51990618e+00, 2.49679774e+00, 9.61654781e-01,\n",
       "       1.57533681e+00, 2.17569214e+01, 1.95847022e+00, 1.01247230e+00,\n",
       "       1.72201916e+00, 2.73560195e-01, 3.18441379e+00, 1.24377700e+01,\n",
       "       1.09106457e+01, 1.11974129e+00, 1.11633207e+00, 1.16156292e+01,\n",
       "       1.70650476e+00, 2.45547105e+00, 1.39871990e+01, 6.87603178e+00,\n",
       "       8.39730842e+00, 1.90564217e+01, 6.13970803e-01, 1.12317793e+00,\n",
       "       2.92078747e+00, 1.39871990e+01, 2.01844447e+00, 1.51269434e+00,\n",
       "       8.22870329e+00, 1.18277294e+00, 1.13042107e+00, 3.18441379e+00,\n",
       "       4.24705793e+00, 6.27054884e+00, 1.55887659e+00, 1.55975273e+00,\n",
       "       1.82550351e+01, 1.51269434e+00, 1.30186903e+01, 5.11526230e+00,\n",
       "       3.34089321e+00, 9.59317276e-01, 2.06280832e+00, 1.24339822e+01,\n",
       "       9.52348693e+00, 3.06792034e+00, 5.76037975e+00, 2.50643967e+01,\n",
       "       6.46994031e+00, 1.16873869e+00, 9.58212069e-01, 3.82855874e+00,\n",
       "       5.03578143e+00, 1.58253459e+00, 1.16873869e+00, 1.10305988e+01,\n",
       "       7.67945831e+00, 1.03889937e+01, 5.11526230e+00, 2.28731409e+00,\n",
       "       1.75931375e-03, 2.96335839e+00, 3.45407348e+00, 2.36206389e+01,\n",
       "       1.03434753e+00, 9.58212069e-01, 1.03434753e+00, 1.57110049e+00,\n",
       "       9.61654781e-01, 4.18718156e+00, 1.57110049e+00, 8.43009918e-01,\n",
       "       2.49679774e+00, 1.02593931e+01, 1.70650476e+00, 3.10987210e+00,\n",
       "       4.08671636e+00, 3.56267957e+01, 8.58001842e+00, 7.67945831e+00,\n",
       "       2.87549037e+01, 2.73560195e-01, 3.27939095e+00, 5.86497497e+00,\n",
       "       3.89592003e+00, 1.39860831e+00, 1.29871120e+01, 2.01836561e+01,\n",
       "       8.21931567e-01, 4.12648000e+00, 4.18718156e+00, 1.92230705e+00,\n",
       "       2.76232323e+00, 2.28731409e+00, 1.57533681e+00, 2.01844447e+00,\n",
       "       8.43009918e-01, 4.27805981e+00, 2.66141343e+01, 3.56267957e+01,\n",
       "       8.21931567e-01, 3.27939095e+00, 1.74929760e+00, 5.86497497e+00,\n",
       "       1.39860831e+00, 1.55975273e+00, 1.01247230e+00, 2.57982360e+00,\n",
       "       1.25881199e+00, 2.41361065e+00, 1.68672366e+00, 1.71786851e+00,\n",
       "       1.77641393e+00, 3.34089321e+00, 1.23962685e+01, 8.39730842e+00,\n",
       "       3.50163148e+00, 5.89180509e+00, 1.58450553e+01, 8.64494403e+00,\n",
       "       8.46619147e+00, 2.41361065e+00, 6.87603178e+00, 3.50163148e+00,\n",
       "       1.58450553e+01, 9.59317276e-01, 1.71740564e+00, 1.12317793e+00,\n",
       "       1.40846053e+01, 1.56660932e+01, 5.76878692e+00, 3.05619975e+00,\n",
       "       7.15870383e-01, 1.46848641e+01, 2.32582788e+00, 1.72201916e+00,\n",
       "       6.13970803e-01, 2.42198395e+00, 1.71230905e+01, 3.33804389e+01,\n",
       "       1.11633207e+00, 0.00000000e+00, 7.15870383e-01, 8.46619147e+00,\n",
       "       0.00000000e+00, 8.82065580e+00, 1.06129811e+01, 1.68672366e+00,\n",
       "       1.07589152e+01, 1.40846053e+01, 0.00000000e+00, 9.44971265e+00,\n",
       "       3.73439011e+00, 9.66264851e+00, 2.37018228e+01, 1.75931375e-03,\n",
       "       9.71715321e-01, 1.88576234e+00, 1.42527617e-01, 1.42527617e-01,\n",
       "       0.00000000e+00, 7.06421578e+00, 1.77641393e+00, 5.40848081e+00])"
      ]
     },
     "execution_count": 31,
     "metadata": {},
     "output_type": "execute_result"
    }
   ],
   "source": [
    "sep3d.degree"
   ]
  },
  {
   "cell_type": "code",
   "execution_count": 42,
   "id": "11f3b288",
   "metadata": {},
   "outputs": [
    {
     "name": "stdout",
     "output_type": "stream",
     "text": [
      "[  0   0   0   0   0   0   0   0   0  81   0   0   0   0   0   0   0   0\n",
      "   0   0   0   0   0   0   0   0   0   0   0   0   0   0   0   0   0   0\n",
      "   0   0   0   0   0   0   0   0   0   0   0   0   0   0   0   0   0   0\n",
      "   0   0   0   0   0   0 155   0   0   0   0   0   0   0   0   0   0   0\n",
      "   0   0   0   0   0   0   0   0   0   9   0   0   0   0   0   0   0   0\n",
      "   0   0   0   0   0   0   0   0   0   0   0   0   0   0   0   0   0   0\n",
      "   0   0   0   0   0   0   0   0   0   0   0   0   0   0   0   0   0   0\n",
      "   0   0   0   0   0   0   0   0   0   0   0   0   0   0   0 160   0   0\n",
      " 150   0   0   0   0   0 150   0   0   0   0  60   0   0 159 158 160   0\n",
      "   0   0]\n",
      "[  9  60  81 141 144 150 155 158 159 160]\n"
     ]
    }
   ],
   "source": [
    "import numpy as np\n",
    "matches = np.where(sep3d.degree < 0.5, idx, 0)\n",
    "#matches = c1[idx]\n",
    "#(matches.separation_3d(c2) == dist3d).all()\n",
    "print(matches)\n",
    "print(np.nonzero(matches)[0])"
   ]
  },
  {
   "cell_type": "code",
   "execution_count": null,
   "id": "6b326c8e",
   "metadata": {},
   "outputs": [],
   "source": []
  },
  {
   "cell_type": "code",
   "execution_count": 4,
   "id": "7b3c792a",
   "metadata": {},
   "outputs": [],
   "source": [
    "o = Orbit.from_name(\"AquariusII\")"
   ]
  },
  {
   "cell_type": "code",
   "execution_count": 5,
   "id": "bf6520fc",
   "metadata": {},
   "outputs": [
    {
     "name": "stdout",
     "output_type": "stream",
     "text": [
      "-0.46552476398448134\n"
     ]
    }
   ],
   "source": [
    "print(o.pmdec())"
   ]
  },
  {
   "cell_type": "code",
   "execution_count": 3,
   "id": "33bf659d",
   "metadata": {},
   "outputs": [],
   "source": [
    "import galpy"
   ]
  },
  {
   "cell_type": "code",
   "execution_count": 4,
   "id": "729c7adb",
   "metadata": {},
   "outputs": [],
   "source": [
    "galpy??"
   ]
  },
  {
   "cell_type": "code",
   "execution_count": null,
   "id": "9c34b724",
   "metadata": {},
   "outputs": [],
   "source": []
  },
  {
   "cell_type": "code",
   "execution_count": null,
   "id": "2db6b0c9",
   "metadata": {},
   "outputs": [],
   "source": []
  },
  {
   "cell_type": "markdown",
   "id": "5b8e5b95",
   "metadata": {},
   "source": [
    "# Testing Action"
   ]
  },
  {
   "cell_type": "code",
   "execution_count": 2,
   "id": "5152054c",
   "metadata": {},
   "outputs": [],
   "source": [
    "from galpy.orbit import Orbit\n",
    "from galpy import potential\n",
    "import numpy as np\n",
    "import matplotlib.pyplot as plt\n",
    "from galpy.util import conversion\n",
    "\n",
    "from galpy.potential.mwpotentials import McMillan17"
   ]
  },
  {
   "cell_type": "code",
   "execution_count": 5,
   "id": "3a7ccf63",
   "metadata": {},
   "outputs": [],
   "source": [
    "ro17 = conversion.get_physical(McMillan17)['ro']\n",
    "vo17 = conversion.get_physical(McMillan17)['vo']\n",
    "\n",
    "t = 5\n",
    "to = conversion.time_in_Gyr(ro=ro17,vo=vo17)\n",
    "n = 1001\n",
    "ts= np.linspace(0.,-t/to,n)\n",
    "\n",
    "sixD = [209.3, 26.8, 46.5, -1.16, -0.88, 189.11]\n",
    "o17 = Orbit(sixD, radec=True, ro = ro17, vo=vo17)\n",
    "o17.integrate(ts, McMillan17)"
   ]
  },
  {
   "cell_type": "code",
   "execution_count": 6,
   "id": "9ff9f9b6",
   "metadata": {},
   "outputs": [
    {
     "name": "stdout",
     "output_type": "stream",
     "text": [
      "/home/student04/.local/lib/python3.10/site-packages/galpy/potential/DiskSCFPotential.py:264: RuntimeWarning: overflow encountered in double_scalars\n",
      "  th= lambda z, tzd=zd: 1./numpy.cosh(z/2./tzd)**2./4./tzd\n",
      "\n",
      "/home/student04/.local/lib/python3.10/site-packages/galpy/actionAngle/actionAngleStaeckel.py:1077: RuntimeWarning: invalid value encountered in sqrt\n",
      "  return numpy.sqrt(delta2)\n",
      "\n"
     ]
    },
    {
     "data": {
      "text/plain": [
       "-27.343896019255027"
      ]
     },
     "execution_count": 6,
     "metadata": {},
     "output_type": "execute_result"
    }
   ],
   "source": [
    "o17.jp(pot=McMillan17)"
   ]
  },
  {
   "cell_type": "code",
   "execution_count": 7,
   "id": "933e26c2",
   "metadata": {},
   "outputs": [
    {
     "data": {
      "text/plain": [
       "-27.343896019255027"
      ]
     },
     "execution_count": 7,
     "metadata": {},
     "output_type": "execute_result"
    }
   ],
   "source": [
    "o17.jp(pot=McMillan17[1])"
   ]
  },
  {
   "cell_type": "code",
   "execution_count": 8,
   "id": "0fbc4317",
   "metadata": {},
   "outputs": [
    {
     "data": {
      "text/plain": [
       "0.0"
      ]
     },
     "execution_count": 8,
     "metadata": {},
     "output_type": "execute_result"
    }
   ],
   "source": [
    "o17.jr(pot=McMillan17) # NOTE: I ran this previously and got nan"
   ]
  },
  {
   "cell_type": "code",
   "execution_count": 10,
   "id": "964d9943",
   "metadata": {},
   "outputs": [
    {
     "data": {
      "text/plain": [
       "6216.283112109242"
      ]
     },
     "execution_count": 10,
     "metadata": {},
     "output_type": "execute_result"
    }
   ],
   "source": [
    "o17.jr(pot=McMillan17[1])"
   ]
  },
  {
   "cell_type": "code",
   "execution_count": 12,
   "id": "a8b1437a",
   "metadata": {},
   "outputs": [
    {
     "data": {
      "text/plain": [
       "nan"
      ]
     },
     "execution_count": 12,
     "metadata": {},
     "output_type": "execute_result"
    }
   ],
   "source": [
    "o17.jz(pot=McMillan17)"
   ]
  },
  {
   "cell_type": "code",
   "execution_count": 13,
   "id": "7197024f",
   "metadata": {},
   "outputs": [
    {
     "data": {
      "text/plain": [
       "3417.4830907034425"
      ]
     },
     "execution_count": 13,
     "metadata": {},
     "output_type": "execute_result"
    }
   ],
   "source": [
    "o17.jz(pot=McMillan17[1])"
   ]
  }
 ],
 "metadata": {
  "kernelspec": {
   "display_name": "Python 3 (ipykernel)",
   "language": "python",
   "name": "python3"
  },
  "language_info": {
   "codemirror_mode": {
    "name": "ipython",
    "version": 3
   },
   "file_extension": ".py",
   "mimetype": "text/x-python",
   "name": "python",
   "nbconvert_exporter": "python",
   "pygments_lexer": "ipython3",
   "version": "3.10.2"
  }
 },
 "nbformat": 4,
 "nbformat_minor": 5
}
