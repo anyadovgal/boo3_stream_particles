{
 "cells": [
  {
   "cell_type": "markdown",
   "id": "8aefe1d3",
   "metadata": {},
   "source": [
    "# Studying the orbit of satellite galaxies"
   ]
  },
  {
   "cell_type": "markdown",
   "id": "10adf845",
   "metadata": {},
   "source": [
    "The purpose of this tutorial is to help *you* with modelling and studying the orbit of galaxies.\n",
    "There are a few things you need to consider when creating your model.\n",
    "- Firstly: what data are you using? When you start your model, you need to have some data on the current 6D properties of your galaxy. The two main methods (that may either produce the same or different results) are 1. manually inputting the 6D data as a list, or 2. using the orbit.Orbit.from_name method. The from_name method imports the data from the SIMBAD database automatically.\n",
    "- Next: what potential are you using for the Milky Way? the galpy package's default potential is 'MWPotential2014', from *Include the source*, however it also includes others like McMillan17, or \"\". You can also instantiate the potential from scratch, using different potential objects like \"\".\n",
    "- And: Do you want to include the LMC potential? In recent studies *cite?*, it's been found that the LMC's effects on the Milky Way are fairly substantial, and depending on the distance from the Milky Way's centre, it's inclusion will affect how satellite galaxies orbit the Milky Way. You can either include it by making a simplified potential, ..... Or, you can include its affects on the acceleration of the Milky Way galactic centre, by calculating the resulting force of the LMC on the MW.\n",
    "- Lastly: For what timeframe do you want to model your orbit? You can integrate your orbit forwards, backwards, or even both to compare the past modelled orbit to the predicted future orbit. You can also choose exactly how far back (or far forwards) you want to integrate the orbit, just keep in mind that the further you model from the present, the less accurate the model may become. Most of the time, integrating your galaxy enough for one full orbit is sufficient."
   ]
  },
  {
   "cell_type": "code",
   "execution_count": 1,
   "id": "f3af5b55",
   "metadata": {},
   "outputs": [],
   "source": [
    "# Importing our libraries and packages required for the orbit\n",
    "from galpy.orbit import Orbit\n",
    "from galpy import potential\n",
    "import numpy as np\n",
    "import matplotlib.pyplot as plt\n",
    "from galpy.util import conversion\n",
    "\n",
    "# Importing potentials.\n",
    "from galpy.potential import MWPotential2014,ChandrasekharDynamicalFrictionForce,HernquistPotential,MovingObjectPotential"
   ]
  },
  {
   "cell_type": "markdown",
   "id": "726e9433",
   "metadata": {},
   "source": [
    "## Instantiating our galaxy\n",
    "The first thing that we do is create a galpy Orbit object that represents our satellite galaxy. If you're inputting the initial conditions by hand, you want to make sure that you're inputting it properly so that the orbit knows what values you're using. You can set it up with [R,vR,vT,z,vz,phi] coordinates very easily; **Do a note on physical units?**\n",
    "```python  \n",
    "o = Orbit([R,vR,vT,z,vz,phi])\n",
    "```\n",
    "If you have [RA(deg),DEC(deg),Dist(kpc),$\\mu_\\alpha^*$(mas/yr), $\\mu_\\delta$(mas/yr),$v_r$(km/s)], you don't need to convert your data into other coordinates, and can instantiate simply;\n",
    "```python\n",
    "o = Orbit([RA,DEC,Dist,pm_ra,pm_dec,vr], radec=True)\n",
    "```\n",
    "Lastly, you can also instantiate the orbit with retrieved 6D conditions from SIMBAD. Keep in mind that the name query needs to be identical to how it is listed on the SIMBAD database;\n",
    "```python\n",
    "name = \"my galaxy's name\"\n",
    "o = Orbit.from_name(name)\n",
    "```\n",
    "\n",
    "Sometimes, you may want to use physical coordinates immediately (.. write about ro and vo).\n",
    "Or, you may want to use a different solar motion than the default. The default solar motion is from Schoenrich et al. (2010), where the solar motion [U,V,W] = [11.1,12.24,7.25].\n",
    "\n",
    "Also, if you need outputs to be in the natural galpy coordinates, you can include `o.turn_physical_off()` in your script."
   ]
  },
  {
   "cell_type": "markdown",
   "id": "3a9ac08d",
   "metadata": {},
   "source": [
    "## Timescale choice\n",
    "Now that the orbit has been initialized,our next step is to choose our timescale. This is not too important immediately, and can always be adjusted later. We choose how far we integrate, for example `t = 2` for 2Gyr, then we convert it into galpy units by introducing a conversion factor `to = conversion.time_in_Gyr(ro=ro,vo=vo)`. We also include how many time steps we'd like to integrate with `n=1001` Lastly we decide whether we are integrating our orbit forwards or backwards, by simply defining our time array to increase from 0 (forwards) `ts= np.linspace(0.,t/to,n)`, or to decrease from 0 (backwards) `ts= np.linspace(0.,-t/to,n)`.\n",
    "This can be done using other methods, but the important thing is that we create an array that spans a timeframe including the initial time (current time, defined as t=0)."
   ]
  },
  {
   "cell_type": "markdown",
   "id": "0262c3da",
   "metadata": {},
   "source": [
    "## Deciding on the potential\n",
    "This is a very important step that will impact the result of the orbit model the most.\n",
    "As mentioned previously, the first step is to decide what 'base' potential we are going to use for the Milky Way. Depending on the desired model, you can choose which Milky Way potential suits your needs. Check [galpy potentials doc](https://docs.galpy.org/en/latest/reference/potential.html) for more information on this.\n",
    "If you don't specify a potential, the default will be MWPotential2014, which represents the sum of the halo and disk (but not the centre) **double check w/ citation**.\n",
    "\n",
    "### Are you including the LMC?\n",
    "Including the effect of the LMC on the Milky Way introduces more realistic dynamics to the model. To include it, you first need to instantiate the LMC as an Orbit object, and then integrate it backwards along your timescale, assuming that it experiences dynamical friction from the Milky Way.\n",
    "```python\n",
    "mass_lmc=1.0e11 #solar masses\n",
    "rscale_lmc=10.2 #kpc\n",
    "\n",
    "o_lmc = Orbit.from_name('LMC', ro=ro, vo=vo, solarmotion=[-11.1, 24.0, 7.25])\n",
    "ts= np.linspace(0.,-t/to,1001)\n",
    "cdf= ChandrasekharDynamicalFrictionForce(GMs=mass_lmc/mo, rhm=rscale_lmc/ro, dens=pot, ro=ro,vo=vo)\n",
    "o_lmc.integrate(ts,pot+cdf)\n",
    "```\n",
    "\n",
    "Next, you represent the LMC as a moving object potential. We do this by first modelling it as a stationary Hernquist Potential, and then implement its motion by combining this potential with its integrated orbit. It can then be added to the potential of the Milky Way. \n",
    "\n",
    "```python\n",
    "#Moving Hernquist potential represents the LMC\n",
    "pot_lmc = HernquistPotential(mass_lmc/mo,rscale_lmc/ro,ro=ro,vo=vo)\n",
    "moving_pot_lmc = MovingObjectPotential(o_lmc, pot_lmc,ro=ro,vo=vo)\n",
    "\n",
    "#Add LMC potential to the MW\n",
    "total_pot = [pot]\n",
    "total_pot += [moving_pot_lmc]\n",
    "```\n",
    "\n",
    "Now this total potential, `total_pot`, can be used for your satellite orbit integration.\n",
    "\n",
    "### Including the Milky Way centre's barycentric acceleration due to the LMC\n",
    "Depending on the location of your satellite galaxy, this inclusion may not affect your orbit drastically, but it will still produce a more accurate result. We start by defining the functions that give the origin acceleration, in rectangular coordinates.\n",
    "```python\n",
    "from galpy.potential import (evaluateRforces, evaluatephitorques,\n",
    "                                 evaluatezforces)\n",
    "loc_origin= 1e-4 # Small offset in R to avoid numerical issues\n",
    "ax= lambda t: evaluateRforces(moving_lmcpot,loc_origin,0.,phi=0.,t=t,\n",
    "                                  use_physical=False)\n",
    "ay= lambda t: evaluatephitorques(moving_lmcpot,loc_origin,0.,phi=0.,t=t,\n",
    "                                    use_physical=False)/loc_origin\n",
    "az= lambda t: evaluatezforces(moving_lmcpot,loc_origin,0.,phi=0.,t=t,\n",
    "                                  use_physical=False)\n",
    "```\n",
    "\n",
    "These are then interpolated to speed up the numerical calculations of the NonInertialFrameForce.\n",
    "\n",
    "```python\n",
    "t_intunits= o.time(use_physical=False)[::-1] # need to reverse the order for interp\n",
    "ax4int= numpy.array([ax(t) for t in t_intunits])\n",
    "ax_int= lambda t: numpy.interp(t,t_intunits,ax4int)\n",
    "ay4int= numpy.array([ay(t) for t in t_intunits])\n",
    "ay_int= lambda t: numpy.interp(t,t_intunits,ay4int)\n",
    "az4int= numpy.array([az(t) for t in t_intunits])\n",
    "az_int= lambda t: numpy.interp(t,t_intunits,az4int)\n",
    "```\n",
    "\n",
    "We now compute the potential addition due to the acceleration of the origin:\n",
    "\n",
    "```python\n",
    "from galpy.potential import NonInertialFrameForce\n",
    "nip= NonInertialFrameForce(a0=[ax_int,ay_int,az_int])\n",
    "```\n",
    "\n",
    "Now we're left with three components of the total potential:\n",
    "- MWPotential2014 (or whatever other potential you are using for the Milky Way)\n",
    "- nip (The non-inertial potential)\n",
    "- moving_pot_lmc (Our potential for the moving LMC)\n",
    "The total potential can now be represented as `MwPotential2014 + nip + moving_pot_lmc` or `[MWPotential2014] + [nip] + [moving_pot_lmc] **CHeck if these two methods are equivalent**"
   ]
  },
  {
   "cell_type": "code",
   "execution_count": null,
   "id": "158d8692",
   "metadata": {},
   "outputs": [],
   "source": []
  },
  {
   "cell_type": "markdown",
   "id": "1fb7558d",
   "metadata": {},
   "source": [
    "## Finally modelling the orbit of your galaxy\n",
    "Now the orbit can be integrated with your timescale and potential of choice.\n",
    "```python\n",
    "o.integrate(timescale,potential)\n",
    "```\n",
    "\n",
    "You can plot almost any dynamic property of the orbit, like cartesian coordinates, cylindrical coordinates, right ascension and declination, etc. You can find exactly what attributes you can find by either typing `o.` and hitting TAB, or by going to the [galpy orbit attributes](https://docs.galpy.org/en/latest/reference/orbit.html#attributes) found in the documentation.\n",
    "Galpy has a method that will plot your coordinates of choice, `o.plot(d1, d2)`, where d1 and d2 are the first and second dimensions, or in 3D `o.plot(d1, d2, d3)`, or as an animation `o.animate(d1, d2)`. You can also create the plots manually in `matplotlib.pyplot`, for example."
   ]
  },
  {
   "cell_type": "markdown",
   "id": "f21ed719",
   "metadata": {},
   "source": [
    "# Example notebook"
   ]
  },
  {
   "cell_type": "markdown",
   "id": "64bf045e",
   "metadata": {},
   "source": [
    "In my example, I'll be modelling the orbit of the dwarf galaxy Fornax."
   ]
  },
  {
   "cell_type": "code",
   "execution_count": null,
   "id": "ab385839",
   "metadata": {},
   "outputs": [],
   "source": []
  }
 ],
 "metadata": {
  "kernelspec": {
   "display_name": "Python 3 (ipykernel)",
   "language": "python",
   "name": "python3"
  },
  "language_info": {
   "codemirror_mode": {
    "name": "ipython",
    "version": 3
   },
   "file_extension": ".py",
   "mimetype": "text/x-python",
   "name": "python",
   "nbconvert_exporter": "python",
   "pygments_lexer": "ipython3",
   "version": "3.10.2"
  }
 },
 "nbformat": 4,
 "nbformat_minor": 5
}
